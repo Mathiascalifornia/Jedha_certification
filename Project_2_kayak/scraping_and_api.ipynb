{
 "cells": [
  {
   "cell_type": "code",
   "execution_count": 1,
   "metadata": {},
   "outputs": [],
   "source": [
    "import pandas as pd , numpy as np , requests\n",
    "from tqdm import tqdm\n",
    "import matplotlib.pyplot as plt , seaborn as sns\n",
    "import plotly.graph_objects as go , plotly.express as px\n",
    "\n",
    "\n",
    "from statistics import mode\n",
    "\n",
    "from scraping_booking import get_data_by_city # Use my scraping class\n",
    "import scrapy \n",
    "from scrapy.crawler import CrawlerProcess\n",
    "from scrapy.utils.log import configure_logging\n",
    "from selenium import webdriver\n",
    "from selenium.webdriver.chrome.service import Service\n",
    "from selenium.webdriver.common.by import By \n",
    "from selenium.webdriver.common.keys import Keys\n",
    "from webdriver_manager.chrome import ChromeDriverManager\n",
    "\n",
    "\n",
    "import time\n",
    "import warnings\n",
    "warnings.filterwarnings('ignore')"
   ]
  },
  {
   "cell_type": "code",
   "execution_count": 143,
   "metadata": {},
   "outputs": [],
   "source": [
    "##### Constant ##### \n",
    "liste_city = [\"Mont Saint Michel\",\n",
    "\"St Malo\",\n",
    "\"Bayeux\",\n",
    "\"Le Havre\",\n",
    "\"Rouen\",\n",
    "\"Paris\",\n",
    "\"Amiens\",\n",
    "\"Lille\",\n",
    "\"Strasbourg\",\n",
    "\"Chateau du Haut Koenigsbourg\",\n",
    "\"Colmar\",\n",
    "\"Eguisheim\",\n",
    "\"Besancon\",\n",
    "\"Dijon\",\n",
    "\"Annecy\",\n",
    "\"Grenoble\",\n",
    "\"Lyon\",\n",
    "\"Gorges du Verdon\",\n",
    "\"Bormes les Mimosas\",\n",
    "\"Cassis\",\n",
    "\"Marseille\",\n",
    "\"Aix en Provence\",\n",
    "\"Avignon\",\n",
    "\"Uzes\",\n",
    "\"Nimes\",\n",
    "\"Aigues Mortes\",\n",
    "\"Saintes Maries de la mer\",\n",
    "\"Collioure\",\n",
    "\"Carcassonne\",\n",
    "\"Ariege\",\n",
    "\"Toulouse\",\n",
    "\"Montauban\",\n",
    "\"Biarritz\",\n",
    "\"Bayonne\",\n",
    "\"La Rochelle\"]\n",
    "\n",
    "api_gps = 'https://nominatim.org/'\n",
    "api_weather = 'https://openweathermap.org/api/one-call-api'\n",
    "api_weather_key = '8227ebf88578625ece9b69b06f786a96'"
   ]
  },
  {
   "attachments": {},
   "cell_type": "markdown",
   "metadata": {},
   "source": [
    "## Get GPS data\n",
    "Use https://nominatim.org/ to get the gps coordinates of all the cities (no subscription required) Documentation : https://nominatim.org/release-docs/develop/api/Search/"
   ]
  },
  {
   "cell_type": "code",
   "execution_count": 144,
   "metadata": {},
   "outputs": [
    {
     "name": "stderr",
     "output_type": "stream",
     "text": [
      "100%|██████████| 35/35 [00:17<00:00,  2.04it/s]\n"
     ]
    }
   ],
   "source": [
    "def get_coordinates(address):\n",
    "    url = 'https://nominatim.openstreetmap.org/search'\n",
    "    params = {'q': address, 'format': 'jsonv2'}\n",
    "    response = requests.get(url, params=params).json()\n",
    "    if len(response) > 0:\n",
    "        lat = response[0]['lat']\n",
    "        lon = response[0]['lon']\n",
    "        return (float(lat), float(lon))\n",
    "    else:\n",
    "        return None\n",
    "    \n",
    "\n",
    "lat , long = [] , []    \n",
    "for city in tqdm(liste_city):\n",
    "\n",
    "    tuple_latlong = get_coordinates(address=city)\n",
    "    lat.append(tuple_latlong[0])\n",
    "    long.append(tuple_latlong[1])"
   ]
  },
  {
   "cell_type": "code",
   "execution_count": 145,
   "metadata": {},
   "outputs": [
    {
     "data": {
      "text/html": [
       "<div>\n",
       "<style scoped>\n",
       "    .dataframe tbody tr th:only-of-type {\n",
       "        vertical-align: middle;\n",
       "    }\n",
       "\n",
       "    .dataframe tbody tr th {\n",
       "        vertical-align: top;\n",
       "    }\n",
       "\n",
       "    .dataframe thead th {\n",
       "        text-align: right;\n",
       "    }\n",
       "</style>\n",
       "<table border=\"1\" class=\"dataframe\">\n",
       "  <thead>\n",
       "    <tr style=\"text-align: right;\">\n",
       "      <th></th>\n",
       "      <th>City</th>\n",
       "      <th>Lat</th>\n",
       "      <th>Long</th>\n",
       "    </tr>\n",
       "  </thead>\n",
       "  <tbody>\n",
       "    <tr>\n",
       "      <th>0</th>\n",
       "      <td>Mont Saint Michel</td>\n",
       "      <td>48.635954</td>\n",
       "      <td>-1.511460</td>\n",
       "    </tr>\n",
       "    <tr>\n",
       "      <th>1</th>\n",
       "      <td>St Malo</td>\n",
       "      <td>48.649518</td>\n",
       "      <td>-2.026041</td>\n",
       "    </tr>\n",
       "    <tr>\n",
       "      <th>2</th>\n",
       "      <td>Bayeux</td>\n",
       "      <td>49.276462</td>\n",
       "      <td>-0.702474</td>\n",
       "    </tr>\n",
       "    <tr>\n",
       "      <th>3</th>\n",
       "      <td>Le Havre</td>\n",
       "      <td>49.493898</td>\n",
       "      <td>0.107973</td>\n",
       "    </tr>\n",
       "    <tr>\n",
       "      <th>4</th>\n",
       "      <td>Rouen</td>\n",
       "      <td>49.440459</td>\n",
       "      <td>1.093966</td>\n",
       "    </tr>\n",
       "  </tbody>\n",
       "</table>\n",
       "</div>"
      ],
      "text/plain": [
       "                City        Lat      Long\n",
       "0  Mont Saint Michel  48.635954 -1.511460\n",
       "1            St Malo  48.649518 -2.026041\n",
       "2             Bayeux  49.276462 -0.702474\n",
       "3           Le Havre  49.493898  0.107973\n",
       "4              Rouen  49.440459  1.093966"
      ]
     },
     "execution_count": 145,
     "metadata": {},
     "output_type": "execute_result"
    }
   ],
   "source": [
    "df = pd.DataFrame({'City' : liste_city , 'Lat' : lat , 'Long' : long})\n",
    "df.head()"
   ]
  },
  {
   "attachments": {},
   "cell_type": "markdown",
   "metadata": {},
   "source": [
    "## Get weather data\n",
    "Use https://openweathermap.org/appid (you have to subscribe to get a free apikey) and https://openweathermap.org/api/one-call-api to get some information about the weather for the 35 cities and put it in a DataFrame"
   ]
  },
  {
   "cell_type": "code",
   "execution_count": 146,
   "metadata": {},
   "outputs": [
    {
     "data": {
      "text/html": [
       "<div>\n",
       "<style scoped>\n",
       "    .dataframe tbody tr th:only-of-type {\n",
       "        vertical-align: middle;\n",
       "    }\n",
       "\n",
       "    .dataframe tbody tr th {\n",
       "        vertical-align: top;\n",
       "    }\n",
       "\n",
       "    .dataframe thead th {\n",
       "        text-align: right;\n",
       "    }\n",
       "</style>\n",
       "<table border=\"1\" class=\"dataframe\">\n",
       "  <thead>\n",
       "    <tr style=\"text-align: right;\">\n",
       "      <th></th>\n",
       "      <th>City</th>\n",
       "      <th>Lat</th>\n",
       "      <th>Long</th>\n",
       "      <th>score_7_days</th>\n",
       "      <th>mean_temperature_7_days</th>\n",
       "      <th>most_freq_weather_7_days</th>\n",
       "      <th>mean_prob_of_rain_7_days</th>\n",
       "    </tr>\n",
       "  </thead>\n",
       "  <tbody>\n",
       "    <tr>\n",
       "      <th>0</th>\n",
       "      <td>Collioure</td>\n",
       "      <td>42.525050</td>\n",
       "      <td>3.083155</td>\n",
       "      <td>15.99500</td>\n",
       "      <td>16.57000</td>\n",
       "      <td>Clouds</td>\n",
       "      <td>0.05750</td>\n",
       "    </tr>\n",
       "    <tr>\n",
       "      <th>1</th>\n",
       "      <td>Nimes</td>\n",
       "      <td>43.837425</td>\n",
       "      <td>4.360069</td>\n",
       "      <td>15.96500</td>\n",
       "      <td>16.10250</td>\n",
       "      <td>Clouds</td>\n",
       "      <td>0.01375</td>\n",
       "    </tr>\n",
       "    <tr>\n",
       "      <th>2</th>\n",
       "      <td>Aix en Provence</td>\n",
       "      <td>43.529842</td>\n",
       "      <td>5.447474</td>\n",
       "      <td>15.53375</td>\n",
       "      <td>15.57125</td>\n",
       "      <td>Clouds</td>\n",
       "      <td>0.00375</td>\n",
       "    </tr>\n",
       "    <tr>\n",
       "      <th>3</th>\n",
       "      <td>Bormes les Mimosas</td>\n",
       "      <td>43.150697</td>\n",
       "      <td>6.341928</td>\n",
       "      <td>15.36625</td>\n",
       "      <td>15.44125</td>\n",
       "      <td>Clouds</td>\n",
       "      <td>0.00750</td>\n",
       "    </tr>\n",
       "    <tr>\n",
       "      <th>4</th>\n",
       "      <td>Aigues Mortes</td>\n",
       "      <td>43.565823</td>\n",
       "      <td>4.191284</td>\n",
       "      <td>15.18375</td>\n",
       "      <td>15.25875</td>\n",
       "      <td>Clouds</td>\n",
       "      <td>0.00750</td>\n",
       "    </tr>\n",
       "  </tbody>\n",
       "</table>\n",
       "</div>"
      ],
      "text/plain": [
       "                 City        Lat      Long  score_7_days  \\\n",
       "0           Collioure  42.525050  3.083155      15.99500   \n",
       "1               Nimes  43.837425  4.360069      15.96500   \n",
       "2     Aix en Provence  43.529842  5.447474      15.53375   \n",
       "3  Bormes les Mimosas  43.150697  6.341928      15.36625   \n",
       "4       Aigues Mortes  43.565823  4.191284      15.18375   \n",
       "\n",
       "   mean_temperature_7_days most_freq_weather_7_days  mean_prob_of_rain_7_days  \n",
       "0                 16.57000                   Clouds                   0.05750  \n",
       "1                 16.10250                   Clouds                   0.01375  \n",
       "2                 15.57125                   Clouds                   0.00375  \n",
       "3                 15.44125                   Clouds                   0.00750  \n",
       "4                 15.25875                   Clouds                   0.00750  "
      ]
     },
     "execution_count": 146,
     "metadata": {},
     "output_type": "execute_result"
    }
   ],
   "source": [
    "mean_temps , mean_prob , most_freq_weather = [] , [] , []\n",
    "for i in range(len(df)):\n",
    "    \n",
    "    lat = df.iloc[i]['Lat']\n",
    "    long = df.iloc[i]['Long']\n",
    "\n",
    "    url = f'https://api.openweathermap.org/data/3.0/onecall?lat={lat}&lon={long}&exclude=current,minutely,hourly,alerts&units=metric&appid={api_weather_key}'\n",
    "    response = requests.get(url).json()\n",
    "    \n",
    "    temps , prob , weather = [] , [] , []\n",
    "    for j in range(len(response['daily'])):\n",
    "        weather.append(response['daily'][j]['weather'][0]['main']) # Main meteo\n",
    "        prob.append(response['daily'][j]['pop'] * 10) # Probality of precipitation\n",
    "        temps.append(response['daily'][j]['feels_like']['day']) # Global temperature of the day\n",
    "\n",
    "    mean_temps.append(np.mean(temps))\n",
    "    mean_prob.append(np.mean(prob))\n",
    "    most_freq_weather.append(mode(weather))\n",
    "    \n",
    "\n",
    "score = np.array(mean_temps) - np.array(mean_prob) # The KPI here is temperature_of_the_day - (prob_rain * 10) , and the weather has to be sunny\n",
    "assert len(mean_prob) == len(mean_temps) == len(most_freq_weather) == len(score)\n",
    "\n",
    "df['score_7_days'] = score \n",
    "df['mean_temperature_7_days'] = mean_temps\n",
    "df['most_freq_weather_7_days'] = most_freq_weather\n",
    "df['mean_prob_of_rain_7_days'] = np.array(mean_prob) / 10\n",
    "\n",
    "\n",
    "df = df.sort_values(by='score_7_days' , ascending=False).reset_index(drop=True)\n",
    "df_bestdest = df[df['most_freq_weather_7_days'] != 'Rain']\n",
    "df.to_csv('df_with_weather.csv')\n",
    "df_bestdest.to_csv('df_best_destination.csv')\n",
    "df.head()"
   ]
  },
  {
   "attachments": {},
   "cell_type": "markdown",
   "metadata": {},
   "source": [
    "## Find the nicest weather\n",
    "Determine the list of cities where the weather will be the nicest within the next 7 days For example, you can use the values of daily.pop and daily.rain to compute the expected volume of rain within the next 7 days... But it's only an example, actually you can have different opinions on a what a nice weather would be like 😎 Maybe the most important criterion for you is the temperature or humidity, so feel free to change the rules !"
   ]
  },
  {
   "attachments": {},
   "cell_type": "markdown",
   "metadata": {},
   "source": [
    "## Save all the results in a .csv file\n",
    "Save all the results in a .csv file, you will use it later 😉 You can save all the informations that seem important to you ! Don't forget to save the name of the cities, and also to create a column containing a unique identifier (id) of each city (this is important for what's next in the project)"
   ]
  },
  {
   "attachments": {},
   "cell_type": "markdown",
   "metadata": {},
   "source": [
    "## Use plotly to display the best destinations on a map "
   ]
  },
  {
   "cell_type": "code",
   "execution_count": 156,
   "metadata": {},
   "outputs": [
    {
     "data": {
      "application/vnd.plotly.v1+json": {
       "config": {
        "plotlyServerURL": "https://plot.ly"
       },
       "data": [
        {
         "customdata": [
          [
           42.52505,
           3.0831554,
           15.995000000000001,
           "Collioure",
           16.57
          ]
         ],
         "hovertemplate": "<b>%{hovertext}</b><br><br>City=%{customdata[3]}<br>mean_temperature_7_days=%{customdata[4]}<extra></extra>",
         "hovertext": [
          "Collioure"
         ],
         "lat": [
          42.52505
         ],
         "legendgroup": "Collioure",
         "lon": [
          3.0831554
         ],
         "marker": {
          "color": "#000004",
          "size": [
           15.995000000000001
          ],
          "sizemode": "area",
          "sizeref": 0.0399875
         },
         "mode": "markers",
         "name": "Collioure",
         "showlegend": true,
         "subplot": "mapbox",
         "type": "scattermapbox"
        },
        {
         "customdata": [
          [
           43.8374249,
           4.3600687,
           15.965,
           "Nimes",
           16.1025
          ]
         ],
         "hovertemplate": "<b>%{hovertext}</b><br><br>City=%{customdata[3]}<br>mean_temperature_7_days=%{customdata[4]}<extra></extra>",
         "hovertext": [
          "Nimes"
         ],
         "lat": [
          43.8374249
         ],
         "legendgroup": "Nimes",
         "lon": [
          4.3600687
         ],
         "marker": {
          "color": "#1b0c41",
          "size": [
           15.965
          ],
          "sizemode": "area",
          "sizeref": 0.0399875
         },
         "mode": "markers",
         "name": "Nimes",
         "showlegend": true,
         "subplot": "mapbox",
         "type": "scattermapbox"
        },
        {
         "customdata": [
          [
           43.5298424,
           5.4474738,
           15.53375,
           "Aix en Provence",
           15.57125
          ]
         ],
         "hovertemplate": "<b>%{hovertext}</b><br><br>City=%{customdata[3]}<br>mean_temperature_7_days=%{customdata[4]}<extra></extra>",
         "hovertext": [
          "Aix en Provence"
         ],
         "lat": [
          43.5298424
         ],
         "legendgroup": "Aix en Provence",
         "lon": [
          5.4474738
         ],
         "marker": {
          "color": "#4a0c6b",
          "size": [
           15.53375
          ],
          "sizemode": "area",
          "sizeref": 0.0399875
         },
         "mode": "markers",
         "name": "Aix en Provence",
         "showlegend": true,
         "subplot": "mapbox",
         "type": "scattermapbox"
        },
        {
         "customdata": [
          [
           43.1506968,
           6.3419285,
           15.36625,
           "Bormes les Mimosas",
           15.44125
          ]
         ],
         "hovertemplate": "<b>%{hovertext}</b><br><br>City=%{customdata[3]}<br>mean_temperature_7_days=%{customdata[4]}<extra></extra>",
         "hovertext": [
          "Bormes les Mimosas"
         ],
         "lat": [
          43.1506968
         ],
         "legendgroup": "Bormes les Mimosas",
         "lon": [
          6.3419285
         ],
         "marker": {
          "color": "#781c6d",
          "size": [
           15.36625
          ],
          "sizemode": "area",
          "sizeref": 0.0399875
         },
         "mode": "markers",
         "name": "Bormes les Mimosas",
         "showlegend": true,
         "subplot": "mapbox",
         "type": "scattermapbox"
        },
        {
         "customdata": [
          [
           43.5658225,
           4.1912837,
           15.18375,
           "Aigues Mortes",
           15.25875
          ]
         ],
         "hovertemplate": "<b>%{hovertext}</b><br><br>City=%{customdata[3]}<br>mean_temperature_7_days=%{customdata[4]}<extra></extra>",
         "hovertext": [
          "Aigues Mortes"
         ],
         "lat": [
          43.5658225
         ],
         "legendgroup": "Aigues Mortes",
         "lon": [
          4.1912837
         ],
         "marker": {
          "color": "#a52c60",
          "size": [
           15.18375
          ],
          "sizemode": "area",
          "sizeref": 0.0399875
         },
         "mode": "markers",
         "name": "Aigues Mortes",
         "showlegend": true,
         "subplot": "mapbox",
         "type": "scattermapbox"
        }
       ],
       "layout": {
        "height": 900,
        "legend": {
         "itemsizing": "constant",
         "title": {
          "text": "City"
         },
         "tracegroupgap": 0
        },
        "mapbox": {
         "center": {
          "lat": 43.32176732,
          "lon": 4.68478202
         },
         "domain": {
          "x": [
           0,
           1
          ],
          "y": [
           0,
           1
          ]
         },
         "style": "open-street-map",
         "zoom": 5
        },
        "template": {
         "data": {
          "bar": [
           {
            "error_x": {
             "color": "#2a3f5f"
            },
            "error_y": {
             "color": "#2a3f5f"
            },
            "marker": {
             "line": {
              "color": "#E5ECF6",
              "width": 0.5
             },
             "pattern": {
              "fillmode": "overlay",
              "size": 10,
              "solidity": 0.2
             }
            },
            "type": "bar"
           }
          ],
          "barpolar": [
           {
            "marker": {
             "line": {
              "color": "#E5ECF6",
              "width": 0.5
             },
             "pattern": {
              "fillmode": "overlay",
              "size": 10,
              "solidity": 0.2
             }
            },
            "type": "barpolar"
           }
          ],
          "carpet": [
           {
            "aaxis": {
             "endlinecolor": "#2a3f5f",
             "gridcolor": "white",
             "linecolor": "white",
             "minorgridcolor": "white",
             "startlinecolor": "#2a3f5f"
            },
            "baxis": {
             "endlinecolor": "#2a3f5f",
             "gridcolor": "white",
             "linecolor": "white",
             "minorgridcolor": "white",
             "startlinecolor": "#2a3f5f"
            },
            "type": "carpet"
           }
          ],
          "choropleth": [
           {
            "colorbar": {
             "outlinewidth": 0,
             "ticks": ""
            },
            "type": "choropleth"
           }
          ],
          "contour": [
           {
            "colorbar": {
             "outlinewidth": 0,
             "ticks": ""
            },
            "colorscale": [
             [
              0,
              "#0d0887"
             ],
             [
              0.1111111111111111,
              "#46039f"
             ],
             [
              0.2222222222222222,
              "#7201a8"
             ],
             [
              0.3333333333333333,
              "#9c179e"
             ],
             [
              0.4444444444444444,
              "#bd3786"
             ],
             [
              0.5555555555555556,
              "#d8576b"
             ],
             [
              0.6666666666666666,
              "#ed7953"
             ],
             [
              0.7777777777777778,
              "#fb9f3a"
             ],
             [
              0.8888888888888888,
              "#fdca26"
             ],
             [
              1,
              "#f0f921"
             ]
            ],
            "type": "contour"
           }
          ],
          "contourcarpet": [
           {
            "colorbar": {
             "outlinewidth": 0,
             "ticks": ""
            },
            "type": "contourcarpet"
           }
          ],
          "heatmap": [
           {
            "colorbar": {
             "outlinewidth": 0,
             "ticks": ""
            },
            "colorscale": [
             [
              0,
              "#0d0887"
             ],
             [
              0.1111111111111111,
              "#46039f"
             ],
             [
              0.2222222222222222,
              "#7201a8"
             ],
             [
              0.3333333333333333,
              "#9c179e"
             ],
             [
              0.4444444444444444,
              "#bd3786"
             ],
             [
              0.5555555555555556,
              "#d8576b"
             ],
             [
              0.6666666666666666,
              "#ed7953"
             ],
             [
              0.7777777777777778,
              "#fb9f3a"
             ],
             [
              0.8888888888888888,
              "#fdca26"
             ],
             [
              1,
              "#f0f921"
             ]
            ],
            "type": "heatmap"
           }
          ],
          "heatmapgl": [
           {
            "colorbar": {
             "outlinewidth": 0,
             "ticks": ""
            },
            "colorscale": [
             [
              0,
              "#0d0887"
             ],
             [
              0.1111111111111111,
              "#46039f"
             ],
             [
              0.2222222222222222,
              "#7201a8"
             ],
             [
              0.3333333333333333,
              "#9c179e"
             ],
             [
              0.4444444444444444,
              "#bd3786"
             ],
             [
              0.5555555555555556,
              "#d8576b"
             ],
             [
              0.6666666666666666,
              "#ed7953"
             ],
             [
              0.7777777777777778,
              "#fb9f3a"
             ],
             [
              0.8888888888888888,
              "#fdca26"
             ],
             [
              1,
              "#f0f921"
             ]
            ],
            "type": "heatmapgl"
           }
          ],
          "histogram": [
           {
            "marker": {
             "pattern": {
              "fillmode": "overlay",
              "size": 10,
              "solidity": 0.2
             }
            },
            "type": "histogram"
           }
          ],
          "histogram2d": [
           {
            "colorbar": {
             "outlinewidth": 0,
             "ticks": ""
            },
            "colorscale": [
             [
              0,
              "#0d0887"
             ],
             [
              0.1111111111111111,
              "#46039f"
             ],
             [
              0.2222222222222222,
              "#7201a8"
             ],
             [
              0.3333333333333333,
              "#9c179e"
             ],
             [
              0.4444444444444444,
              "#bd3786"
             ],
             [
              0.5555555555555556,
              "#d8576b"
             ],
             [
              0.6666666666666666,
              "#ed7953"
             ],
             [
              0.7777777777777778,
              "#fb9f3a"
             ],
             [
              0.8888888888888888,
              "#fdca26"
             ],
             [
              1,
              "#f0f921"
             ]
            ],
            "type": "histogram2d"
           }
          ],
          "histogram2dcontour": [
           {
            "colorbar": {
             "outlinewidth": 0,
             "ticks": ""
            },
            "colorscale": [
             [
              0,
              "#0d0887"
             ],
             [
              0.1111111111111111,
              "#46039f"
             ],
             [
              0.2222222222222222,
              "#7201a8"
             ],
             [
              0.3333333333333333,
              "#9c179e"
             ],
             [
              0.4444444444444444,
              "#bd3786"
             ],
             [
              0.5555555555555556,
              "#d8576b"
             ],
             [
              0.6666666666666666,
              "#ed7953"
             ],
             [
              0.7777777777777778,
              "#fb9f3a"
             ],
             [
              0.8888888888888888,
              "#fdca26"
             ],
             [
              1,
              "#f0f921"
             ]
            ],
            "type": "histogram2dcontour"
           }
          ],
          "mesh3d": [
           {
            "colorbar": {
             "outlinewidth": 0,
             "ticks": ""
            },
            "type": "mesh3d"
           }
          ],
          "parcoords": [
           {
            "line": {
             "colorbar": {
              "outlinewidth": 0,
              "ticks": ""
             }
            },
            "type": "parcoords"
           }
          ],
          "pie": [
           {
            "automargin": true,
            "type": "pie"
           }
          ],
          "scatter": [
           {
            "fillpattern": {
             "fillmode": "overlay",
             "size": 10,
             "solidity": 0.2
            },
            "type": "scatter"
           }
          ],
          "scatter3d": [
           {
            "line": {
             "colorbar": {
              "outlinewidth": 0,
              "ticks": ""
             }
            },
            "marker": {
             "colorbar": {
              "outlinewidth": 0,
              "ticks": ""
             }
            },
            "type": "scatter3d"
           }
          ],
          "scattercarpet": [
           {
            "marker": {
             "colorbar": {
              "outlinewidth": 0,
              "ticks": ""
             }
            },
            "type": "scattercarpet"
           }
          ],
          "scattergeo": [
           {
            "marker": {
             "colorbar": {
              "outlinewidth": 0,
              "ticks": ""
             }
            },
            "type": "scattergeo"
           }
          ],
          "scattergl": [
           {
            "marker": {
             "colorbar": {
              "outlinewidth": 0,
              "ticks": ""
             }
            },
            "type": "scattergl"
           }
          ],
          "scattermapbox": [
           {
            "marker": {
             "colorbar": {
              "outlinewidth": 0,
              "ticks": ""
             }
            },
            "type": "scattermapbox"
           }
          ],
          "scatterpolar": [
           {
            "marker": {
             "colorbar": {
              "outlinewidth": 0,
              "ticks": ""
             }
            },
            "type": "scatterpolar"
           }
          ],
          "scatterpolargl": [
           {
            "marker": {
             "colorbar": {
              "outlinewidth": 0,
              "ticks": ""
             }
            },
            "type": "scatterpolargl"
           }
          ],
          "scatterternary": [
           {
            "marker": {
             "colorbar": {
              "outlinewidth": 0,
              "ticks": ""
             }
            },
            "type": "scatterternary"
           }
          ],
          "surface": [
           {
            "colorbar": {
             "outlinewidth": 0,
             "ticks": ""
            },
            "colorscale": [
             [
              0,
              "#0d0887"
             ],
             [
              0.1111111111111111,
              "#46039f"
             ],
             [
              0.2222222222222222,
              "#7201a8"
             ],
             [
              0.3333333333333333,
              "#9c179e"
             ],
             [
              0.4444444444444444,
              "#bd3786"
             ],
             [
              0.5555555555555556,
              "#d8576b"
             ],
             [
              0.6666666666666666,
              "#ed7953"
             ],
             [
              0.7777777777777778,
              "#fb9f3a"
             ],
             [
              0.8888888888888888,
              "#fdca26"
             ],
             [
              1,
              "#f0f921"
             ]
            ],
            "type": "surface"
           }
          ],
          "table": [
           {
            "cells": {
             "fill": {
              "color": "#EBF0F8"
             },
             "line": {
              "color": "white"
             }
            },
            "header": {
             "fill": {
              "color": "#C8D4E3"
             },
             "line": {
              "color": "white"
             }
            },
            "type": "table"
           }
          ]
         },
         "layout": {
          "annotationdefaults": {
           "arrowcolor": "#2a3f5f",
           "arrowhead": 0,
           "arrowwidth": 1
          },
          "autotypenumbers": "strict",
          "coloraxis": {
           "colorbar": {
            "outlinewidth": 0,
            "ticks": ""
           }
          },
          "colorscale": {
           "diverging": [
            [
             0,
             "#8e0152"
            ],
            [
             0.1,
             "#c51b7d"
            ],
            [
             0.2,
             "#de77ae"
            ],
            [
             0.3,
             "#f1b6da"
            ],
            [
             0.4,
             "#fde0ef"
            ],
            [
             0.5,
             "#f7f7f7"
            ],
            [
             0.6,
             "#e6f5d0"
            ],
            [
             0.7,
             "#b8e186"
            ],
            [
             0.8,
             "#7fbc41"
            ],
            [
             0.9,
             "#4d9221"
            ],
            [
             1,
             "#276419"
            ]
           ],
           "sequential": [
            [
             0,
             "#0d0887"
            ],
            [
             0.1111111111111111,
             "#46039f"
            ],
            [
             0.2222222222222222,
             "#7201a8"
            ],
            [
             0.3333333333333333,
             "#9c179e"
            ],
            [
             0.4444444444444444,
             "#bd3786"
            ],
            [
             0.5555555555555556,
             "#d8576b"
            ],
            [
             0.6666666666666666,
             "#ed7953"
            ],
            [
             0.7777777777777778,
             "#fb9f3a"
            ],
            [
             0.8888888888888888,
             "#fdca26"
            ],
            [
             1,
             "#f0f921"
            ]
           ],
           "sequentialminus": [
            [
             0,
             "#0d0887"
            ],
            [
             0.1111111111111111,
             "#46039f"
            ],
            [
             0.2222222222222222,
             "#7201a8"
            ],
            [
             0.3333333333333333,
             "#9c179e"
            ],
            [
             0.4444444444444444,
             "#bd3786"
            ],
            [
             0.5555555555555556,
             "#d8576b"
            ],
            [
             0.6666666666666666,
             "#ed7953"
            ],
            [
             0.7777777777777778,
             "#fb9f3a"
            ],
            [
             0.8888888888888888,
             "#fdca26"
            ],
            [
             1,
             "#f0f921"
            ]
           ]
          },
          "colorway": [
           "#636efa",
           "#EF553B",
           "#00cc96",
           "#ab63fa",
           "#FFA15A",
           "#19d3f3",
           "#FF6692",
           "#B6E880",
           "#FF97FF",
           "#FECB52"
          ],
          "font": {
           "color": "#2a3f5f"
          },
          "geo": {
           "bgcolor": "white",
           "lakecolor": "white",
           "landcolor": "#E5ECF6",
           "showlakes": true,
           "showland": true,
           "subunitcolor": "white"
          },
          "hoverlabel": {
           "align": "left"
          },
          "hovermode": "closest",
          "mapbox": {
           "style": "light"
          },
          "paper_bgcolor": "white",
          "plot_bgcolor": "#E5ECF6",
          "polar": {
           "angularaxis": {
            "gridcolor": "white",
            "linecolor": "white",
            "ticks": ""
           },
           "bgcolor": "#E5ECF6",
           "radialaxis": {
            "gridcolor": "white",
            "linecolor": "white",
            "ticks": ""
           }
          },
          "scene": {
           "xaxis": {
            "backgroundcolor": "#E5ECF6",
            "gridcolor": "white",
            "gridwidth": 2,
            "linecolor": "white",
            "showbackground": true,
            "ticks": "",
            "zerolinecolor": "white"
           },
           "yaxis": {
            "backgroundcolor": "#E5ECF6",
            "gridcolor": "white",
            "gridwidth": 2,
            "linecolor": "white",
            "showbackground": true,
            "ticks": "",
            "zerolinecolor": "white"
           },
           "zaxis": {
            "backgroundcolor": "#E5ECF6",
            "gridcolor": "white",
            "gridwidth": 2,
            "linecolor": "white",
            "showbackground": true,
            "ticks": "",
            "zerolinecolor": "white"
           }
          },
          "shapedefaults": {
           "line": {
            "color": "#2a3f5f"
           }
          },
          "ternary": {
           "aaxis": {
            "gridcolor": "white",
            "linecolor": "white",
            "ticks": ""
           },
           "baxis": {
            "gridcolor": "white",
            "linecolor": "white",
            "ticks": ""
           },
           "bgcolor": "#E5ECF6",
           "caxis": {
            "gridcolor": "white",
            "linecolor": "white",
            "ticks": ""
           }
          },
          "title": {
           "x": 0.05
          },
          "xaxis": {
           "automargin": true,
           "gridcolor": "white",
           "linecolor": "white",
           "ticks": "",
           "title": {
            "standoff": 15
           },
           "zerolinecolor": "white",
           "zerolinewidth": 2
          },
          "yaxis": {
           "automargin": true,
           "gridcolor": "white",
           "linecolor": "white",
           "ticks": "",
           "title": {
            "standoff": 15
           },
           "zerolinecolor": "white",
           "zerolinewidth": 2
          }
         }
        },
        "title": {
         "text": "Best rated hotels in selected cities (with the best weather in the last 7 days)"
        },
        "width": 1050
       }
      }
     },
     "metadata": {},
     "output_type": "display_data"
    }
   ],
   "source": [
    "fig = px.scatter_mapbox(df_bestdest.head(), lat=\"Lat\", lon=\"Long\", hover_name = 'City', zoom = 5,\n",
    "                        hover_data={\n",
    "        'Lat': False,\n",
    "        'Long': False,\n",
    "        'score_7_days':False,\n",
    "        'City': True,\n",
    "        'mean_temperature_7_days': True,\n",
    "        }, \n",
    "                        color = 'City', color_discrete_sequence = px.colors.sequential.Inferno, template='plotly', size='score_7_days',\n",
    "                        mapbox_style='open-street-map',width = 1050, height = 900,\n",
    "                        title='Best rated hotels in selected cities (with the best weather in the last 7 days)')\n",
    "fig.show()\n"
   ]
  },
  {
   "attachments": {},
   "cell_type": "markdown",
   "metadata": {},
   "source": [
    "## Scrape Booking.com\n",
    "Since BookingHoldings doesn't have aggregated databases, it will be much faster to scrape data directly from booking.com\n",
    "\n",
    "You can scrap as many information as you want, but we suggest that you get at least:\n",
    "\n",
    "- hotel name,\n",
    "- Url to its booking.com page,\n",
    "- Its coordinates: latitude and longitude\n",
    "- Score given by the website users\n",
    "- Text description of the hotel\n",
    "- Create your data lake using S3\n",
    "- Once you managed to build your dataset, you should store into S3 as a csv file."
   ]
  },
  {
   "cell_type": "code",
   "execution_count": 2,
   "metadata": {},
   "outputs": [
    {
     "name": "stderr",
     "output_type": "stream",
     "text": [
      "2023-03-30 17:13:38 [scrapy.core.scraper] ERROR: Spider error processing <GET https://www.booking.com/searchresults.fr.html?label=gen173nr-1FCAEoggI46AdIDVgEaE2IAQGYAQ24ARfIAQzYAQHoAQH4AQKIAgGoAgO4AvuylaEGwAIB0gIkMjBiZDJlZWUtZjY0ZC00OWVlLWExZGQtMWQzN2NhYTA1NDA52AIF4AIB&aid=304142&ss=Rouen&ssne=Rouen&ssne_untouched=Rouen&lang=fr&sb=1&src_elem=sb&src=index&dest_id=-1456928&dest_type=city&group_adults=2&no_rooms=1&group_children=0&sb_travel_purpose=leisure&offset=225> (referer: https://www.booking.com/searchresults.fr.html?label=gen173nr-1FCAEoggI46AdIDVgEaE2IAQGYAQ24ARfIAQzYAQHoAQH4AQKIAgGoAgO4AvuylaEGwAIB0gIkMjBiZDJlZWUtZjY0ZC00OWVlLWExZGQtMWQzN2NhYTA1NDA52AIF4AIB&aid=304142&ss=Rouen&ssne=Rouen&ssne_untouched=Rouen&lang=fr&sb=1&src_elem=sb&src=index&dest_id=-1456928&dest_type=city&group_adults=2&no_rooms=1&group_children=0&sb_travel_purpose=leisure&offset=200)\n",
      "Traceback (most recent call last):\n",
      "  File \"C:\\Users\\lucas\\AppData\\Roaming\\Python\\Python310\\site-packages\\urllib3\\connection.py\", line 174, in _new_conn\n",
      "    conn = connection.create_connection(\n",
      "  File \"C:\\Users\\lucas\\AppData\\Roaming\\Python\\Python310\\site-packages\\urllib3\\util\\connection.py\", line 95, in create_connection\n",
      "    raise err\n",
      "  File \"C:\\Users\\lucas\\AppData\\Roaming\\Python\\Python310\\site-packages\\urllib3\\util\\connection.py\", line 85, in create_connection\n",
      "    sock.connect(sa)\n",
      "ConnectionRefusedError: [WinError 10061] Aucune connexion n’a pu être établie car l’ordinateur cible l’a expressément refusée\n",
      "\n",
      "During handling of the above exception, another exception occurred:\n",
      "\n",
      "Traceback (most recent call last):\n",
      "  File \"C:\\Users\\lucas\\AppData\\Roaming\\Python\\Python310\\site-packages\\urllib3\\connectionpool.py\", line 703, in urlopen\n",
      "    httplib_response = self._make_request(\n",
      "  File \"C:\\Users\\lucas\\AppData\\Roaming\\Python\\Python310\\site-packages\\urllib3\\connectionpool.py\", line 398, in _make_request\n",
      "    conn.request(method, url, **httplib_request_kw)\n",
      "  File \"C:\\Users\\lucas\\AppData\\Roaming\\Python\\Python310\\site-packages\\urllib3\\connection.py\", line 239, in request\n",
      "    super(HTTPConnection, self).request(method, url, body=body, headers=headers)\n",
      "  File \"c:\\Program Files\\Python310\\lib\\http\\client.py\", line 1282, in request\n",
      "    self._send_request(method, url, body, headers, encode_chunked)\n",
      "  File \"c:\\Program Files\\Python310\\lib\\http\\client.py\", line 1328, in _send_request\n",
      "    self.endheaders(body, encode_chunked=encode_chunked)\n",
      "  File \"c:\\Program Files\\Python310\\lib\\http\\client.py\", line 1277, in endheaders\n",
      "    self._send_output(message_body, encode_chunked=encode_chunked)\n",
      "  File \"c:\\Program Files\\Python310\\lib\\http\\client.py\", line 1037, in _send_output\n",
      "    self.send(msg)\n",
      "  File \"c:\\Program Files\\Python310\\lib\\http\\client.py\", line 975, in send\n",
      "    self.connect()\n",
      "  File \"C:\\Users\\lucas\\AppData\\Roaming\\Python\\Python310\\site-packages\\urllib3\\connection.py\", line 205, in connect\n",
      "    conn = self._new_conn()\n",
      "  File \"C:\\Users\\lucas\\AppData\\Roaming\\Python\\Python310\\site-packages\\urllib3\\connection.py\", line 186, in _new_conn\n",
      "    raise NewConnectionError(\n",
      "urllib3.exceptions.NewConnectionError: <urllib3.connection.HTTPConnection object at 0x000001849076D0C0>: Failed to establish a new connection: [WinError 10061] Aucune connexion n’a pu être établie car l’ordinateur cible l’a expressément refusée\n",
      "\n",
      "During handling of the above exception, another exception occurred:\n",
      "\n",
      "Traceback (most recent call last):\n",
      "  File \"C:\\Users\\lucas\\AppData\\Roaming\\Python\\Python310\\site-packages\\scrapy\\utils\\defer.py\", line 257, in iter_errback\n",
      "    yield next(it)\n",
      "  File \"C:\\Users\\lucas\\AppData\\Roaming\\Python\\Python310\\site-packages\\scrapy\\utils\\python.py\", line 312, in __next__\n",
      "    return next(self.data)\n",
      "  File \"C:\\Users\\lucas\\AppData\\Roaming\\Python\\Python310\\site-packages\\scrapy\\utils\\python.py\", line 312, in __next__\n",
      "    return next(self.data)\n",
      "  File \"C:\\Users\\lucas\\AppData\\Roaming\\Python\\Python310\\site-packages\\scrapy\\core\\spidermw.py\", line 104, in process_sync\n",
      "    for r in iterable:\n",
      "  File \"C:\\Users\\lucas\\AppData\\Roaming\\Python\\Python310\\site-packages\\scrapy\\spidermiddlewares\\offsite.py\", line 28, in <genexpr>\n",
      "    return (r for r in result or () if self._filter(r, spider))\n",
      "  File \"C:\\Users\\lucas\\AppData\\Roaming\\Python\\Python310\\site-packages\\scrapy\\core\\spidermw.py\", line 104, in process_sync\n",
      "    for r in iterable:\n",
      "  File \"C:\\Users\\lucas\\AppData\\Roaming\\Python\\Python310\\site-packages\\scrapy\\spidermiddlewares\\referer.py\", line 353, in <genexpr>\n",
      "    return (self._set_referer(r, response) for r in result or ())\n",
      "  File \"C:\\Users\\lucas\\AppData\\Roaming\\Python\\Python310\\site-packages\\scrapy\\core\\spidermw.py\", line 104, in process_sync\n",
      "    for r in iterable:\n",
      "  File \"C:\\Users\\lucas\\AppData\\Roaming\\Python\\Python310\\site-packages\\scrapy\\spidermiddlewares\\urllength.py\", line 27, in <genexpr>\n",
      "    return (r for r in result or () if self._filter(r, spider))\n",
      "  File \"C:\\Users\\lucas\\AppData\\Roaming\\Python\\Python310\\site-packages\\scrapy\\core\\spidermw.py\", line 104, in process_sync\n",
      "    for r in iterable:\n",
      "  File \"C:\\Users\\lucas\\AppData\\Roaming\\Python\\Python310\\site-packages\\scrapy\\spidermiddlewares\\depth.py\", line 31, in <genexpr>\n",
      "    return (r for r in result or () if self._filter(r, response, spider))\n",
      "  File \"C:\\Users\\lucas\\AppData\\Roaming\\Python\\Python310\\site-packages\\scrapy\\core\\spidermw.py\", line 104, in process_sync\n",
      "    for r in iterable:\n",
      "  File \"c:\\Users\\lucas\\OneDrive\\Bureau\\Autre\\Code\\Python\\DATACAMP\\Projets\\Jedha\\Jedha_certification\\Project_2_kayak\\scraping_booking.py\", line 54, in parse\n",
      "    self.driver.get(self.start_url) # Get the start url\n",
      "  File \"C:\\Users\\lucas\\AppData\\Roaming\\Python\\Python310\\site-packages\\selenium\\webdriver\\remote\\webdriver.py\", line 440, in get\n",
      "    self.execute(Command.GET, {'url': url})\n",
      "  File \"C:\\Users\\lucas\\AppData\\Roaming\\Python\\Python310\\site-packages\\selenium\\webdriver\\remote\\webdriver.py\", line 426, in execute\n",
      "    response = self.command_executor.execute(driver_command, params)\n",
      "  File \"C:\\Users\\lucas\\AppData\\Roaming\\Python\\Python310\\site-packages\\selenium\\webdriver\\remote\\remote_connection.py\", line 344, in execute\n",
      "    return self._request(command_info[0], url, body=data)\n",
      "  File \"C:\\Users\\lucas\\AppData\\Roaming\\Python\\Python310\\site-packages\\selenium\\webdriver\\remote\\remote_connection.py\", line 366, in _request\n",
      "    response = self._conn.request(method, url, body=body, headers=headers)\n",
      "  File \"C:\\Users\\lucas\\AppData\\Roaming\\Python\\Python310\\site-packages\\urllib3\\request.py\", line 78, in request\n",
      "    return self.request_encode_body(\n",
      "  File \"C:\\Users\\lucas\\AppData\\Roaming\\Python\\Python310\\site-packages\\urllib3\\request.py\", line 170, in request_encode_body\n",
      "    return self.urlopen(method, url, **extra_kw)\n",
      "  File \"C:\\Users\\lucas\\AppData\\Roaming\\Python\\Python310\\site-packages\\urllib3\\poolmanager.py\", line 376, in urlopen\n",
      "    response = conn.urlopen(method, u.request_uri, **kw)\n",
      "  File \"C:\\Users\\lucas\\AppData\\Roaming\\Python\\Python310\\site-packages\\urllib3\\connectionpool.py\", line 815, in urlopen\n",
      "    return self.urlopen(\n",
      "  File \"C:\\Users\\lucas\\AppData\\Roaming\\Python\\Python310\\site-packages\\urllib3\\connectionpool.py\", line 815, in urlopen\n",
      "    return self.urlopen(\n",
      "  File \"C:\\Users\\lucas\\AppData\\Roaming\\Python\\Python310\\site-packages\\urllib3\\connectionpool.py\", line 815, in urlopen\n",
      "    return self.urlopen(\n",
      "  File \"C:\\Users\\lucas\\AppData\\Roaming\\Python\\Python310\\site-packages\\urllib3\\connectionpool.py\", line 787, in urlopen\n",
      "    retries = retries.increment(\n",
      "  File \"C:\\Users\\lucas\\AppData\\Roaming\\Python\\Python310\\site-packages\\urllib3\\util\\retry.py\", line 592, in increment\n",
      "    raise MaxRetryError(_pool, url, error or ResponseError(cause))\n",
      "urllib3.exceptions.MaxRetryError: HTTPConnectionPool(host='localhost', port=53443): Max retries exceeded with url: /session/b06a841cd08c61632ed0c3812b624f05/url (Caused by NewConnectionError('<urllib3.connection.HTTPConnection object at 0x000001849076D0C0>: Failed to establish a new connection: [WinError 10061] Aucune connexion n’a pu être établie car l’ordinateur cible l’a expressément refusée'))\n"
     ]
    },
    {
     "data": {
      "text/html": [
       "<div>\n",
       "<style scoped>\n",
       "    .dataframe tbody tr th:only-of-type {\n",
       "        vertical-align: middle;\n",
       "    }\n",
       "\n",
       "    .dataframe tbody tr th {\n",
       "        vertical-align: top;\n",
       "    }\n",
       "\n",
       "    .dataframe thead th {\n",
       "        text-align: right;\n",
       "    }\n",
       "</style>\n",
       "<table border=\"1\" class=\"dataframe\">\n",
       "  <thead>\n",
       "    <tr style=\"text-align: right;\">\n",
       "      <th></th>\n",
       "      <th>city</th>\n",
       "      <th>name_hotel</th>\n",
       "      <th>Loc</th>\n",
       "      <th>Description</th>\n",
       "      <th>Rating</th>\n",
       "      <th>Link</th>\n",
       "    </tr>\n",
       "  </thead>\n",
       "  <tbody>\n",
       "    <tr>\n",
       "      <th>0</th>\n",
       "      <td>Rouen</td>\n",
       "      <td>Urban Bivouac Hotel</td>\n",
       "      <td>13e arr., Paris</td>\n",
       "      <td>L’Urban Bivouac Hotel propose des hébergements...</td>\n",
       "      <td>8,7</td>\n",
       "      <td>https://www.booking.com/hotel/fr/ub-paris.fr.h...</td>\n",
       "    </tr>\n",
       "    <tr>\n",
       "      <th>1</th>\n",
       "      <td>Rouen</td>\n",
       "      <td>Belambra City - Magendie</td>\n",
       "      <td>13e arr., Paris</td>\n",
       "      <td>L’hôtel Belambra City - Magendie se trouve à 1...</td>\n",
       "      <td>7,7</td>\n",
       "      <td>https://www.booking.com/hotel/fr/belambra-city...</td>\n",
       "    </tr>\n",
       "    <tr>\n",
       "      <th>2</th>\n",
       "      <td>Rouen</td>\n",
       "      <td>OKKO Hotels Paris Gare de l'Est</td>\n",
       "      <td>10e arr., Paris</td>\n",
       "      <td>L’OKKO Hotels Paris Gare de l'Est est situé à ...</td>\n",
       "      <td>8,3</td>\n",
       "      <td>https://www.booking.com/hotel/fr/okko-hotels-p...</td>\n",
       "    </tr>\n",
       "    <tr>\n",
       "      <th>3</th>\n",
       "      <td>Rouen</td>\n",
       "      <td>HIGHSTAY - Le Marais - Serviced Apartments</td>\n",
       "      <td>3e arr., Paris</td>\n",
       "      <td>Le HIGHSTAY - Le Marais - Serviced Apartments ...</td>\n",
       "      <td>8,8</td>\n",
       "      <td>https://www.booking.com/hotel/fr/highstay-reau...</td>\n",
       "    </tr>\n",
       "    <tr>\n",
       "      <th>4</th>\n",
       "      <td>Rouen</td>\n",
       "      <td>LivinParis - Luxury 2 Bedrooms Opera I</td>\n",
       "      <td>10e arr., Paris</td>\n",
       "      <td>Situé à Paris, à moins de 1 km de la station d...</td>\n",
       "      <td>8,4</td>\n",
       "      <td>https://www.booking.com/hotel/fr/luxury-apartm...</td>\n",
       "    </tr>\n",
       "    <tr>\n",
       "      <th>5</th>\n",
       "      <td>Rouen</td>\n",
       "      <td>Le Marceau Bastille</td>\n",
       "      <td>12e arr., Paris</td>\n",
       "      <td>Situé à 550 mètres de la place de la Bastille ...</td>\n",
       "      <td>8,6</td>\n",
       "      <td>https://www.booking.com/hotel/fr/le-marceau-ba...</td>\n",
       "    </tr>\n",
       "    <tr>\n",
       "      <th>6</th>\n",
       "      <td>Rouen</td>\n",
       "      <td>Pullman Paris Centre - Bercy</td>\n",
       "      <td>12e arr., Paris</td>\n",
       "      <td>Le Pullman Paris Centre - Bercy vous accueille...</td>\n",
       "      <td>8,3</td>\n",
       "      <td>https://www.booking.com/hotel/fr/pullman-paris...</td>\n",
       "    </tr>\n",
       "    <tr>\n",
       "      <th>7</th>\n",
       "      <td>Rouen</td>\n",
       "      <td>Hotel Ile de France Opéra</td>\n",
       "      <td>2e arr., Paris</td>\n",
       "      <td>L'hôtel Île de France Opéra occupe un bâtiment...</td>\n",
       "      <td>7,6</td>\n",
       "      <td>https://www.booking.com/hotel/fr/idfo.fr.html?...</td>\n",
       "    </tr>\n",
       "    <tr>\n",
       "      <th>8</th>\n",
       "      <td>Rouen</td>\n",
       "      <td>Les Patios du Marais 1</td>\n",
       "      <td>3e arr., Paris</td>\n",
       "      <td>L'établissement Les Patios du Marais propose d...</td>\n",
       "      <td>7,3</td>\n",
       "      <td>https://www.booking.com/hotel/fr/les-patios-du...</td>\n",
       "    </tr>\n",
       "    <tr>\n",
       "      <th>9</th>\n",
       "      <td>Rouen</td>\n",
       "      <td>Hôtel La Nouvelle République &amp; Hammam</td>\n",
       "      <td>11e arr., Paris</td>\n",
       "      <td>Situé dans le 11ème arrondissement de Paris, l...</td>\n",
       "      <td>8,7</td>\n",
       "      <td>https://www.booking.com/hotel/fr/la-nouvelle-r...</td>\n",
       "    </tr>\n",
       "    <tr>\n",
       "      <th>10</th>\n",
       "      <td>Rouen</td>\n",
       "      <td>Hotel Aix Europe</td>\n",
       "      <td>10e arr., Paris</td>\n",
       "      <td>Doté d'une connexion Wi-Fi gratuite dans l'ens...</td>\n",
       "      <td>7,1</td>\n",
       "      <td>https://www.booking.com/hotel/fr/aix-europe.fr...</td>\n",
       "    </tr>\n",
       "    <tr>\n",
       "      <th>11</th>\n",
       "      <td>Rouen</td>\n",
       "      <td>Hotel B Square</td>\n",
       "      <td>17e arr., Paris</td>\n",
       "      <td>Situé à 5 minutes à pied de l'animation de la ...</td>\n",
       "      <td>7,7</td>\n",
       "      <td>https://www.booking.com/hotel/fr/batignollesvi...</td>\n",
       "    </tr>\n",
       "    <tr>\n",
       "      <th>12</th>\n",
       "      <td>Rouen</td>\n",
       "      <td>Hôtel Du Midi Paris Montparnasse</td>\n",
       "      <td>14e arr., Paris</td>\n",
       "      <td>L'Hôtel Du Midi Paris Montparnasse est situé p...</td>\n",
       "      <td>8,3</td>\n",
       "      <td>https://www.booking.com/hotel/fr/du-midi-paris...</td>\n",
       "    </tr>\n",
       "    <tr>\n",
       "      <th>13</th>\n",
       "      <td>Rouen</td>\n",
       "      <td>Hôtel Villa Bohème</td>\n",
       "      <td>9e arr., Paris</td>\n",
       "      <td>Situé à moins de 5 minutes à pied des stations...</td>\n",
       "      <td>8,2</td>\n",
       "      <td>https://www.booking.com/hotel/fr/ha-tel-villa-...</td>\n",
       "    </tr>\n",
       "    <tr>\n",
       "      <th>14</th>\n",
       "      <td>Rouen</td>\n",
       "      <td>Hotel Westminster</td>\n",
       "      <td>2e arr., Paris</td>\n",
       "      <td>L'Hotel Westminster est situé dans le centre d...</td>\n",
       "      <td>7,7</td>\n",
       "      <td>https://www.booking.com/hotel/fr/hotelwestmins...</td>\n",
       "    </tr>\n",
       "    <tr>\n",
       "      <th>15</th>\n",
       "      <td>Rouen</td>\n",
       "      <td>Hotel Marais Grands Boulevards</td>\n",
       "      <td>3e arr., Paris</td>\n",
       "      <td>L'Hôtel Marais Grands Boulevards est idéalemen...</td>\n",
       "      <td>8,0</td>\n",
       "      <td>https://www.booking.com/hotel/fr/bestwesternfr...</td>\n",
       "    </tr>\n",
       "    <tr>\n",
       "      <th>16</th>\n",
       "      <td>Rouen</td>\n",
       "      <td>District Republique</td>\n",
       "      <td>10e arr., Paris</td>\n",
       "      <td>Situé à Paris, le District République se situe...</td>\n",
       "      <td>8,3</td>\n",
       "      <td>https://www.booking.com/hotel/fr/district-repu...</td>\n",
       "    </tr>\n",
       "    <tr>\n",
       "      <th>17</th>\n",
       "      <td>Rouen</td>\n",
       "      <td>Hotel du Collectionneur</td>\n",
       "      <td>8e arr., Paris</td>\n",
       "      <td>Situé à 10 minutes à pied de l’avenue des Cham...</td>\n",
       "      <td>7,2</td>\n",
       "      <td>https://www.booking.com/hotel/fr/collectionneu...</td>\n",
       "    </tr>\n",
       "    <tr>\n",
       "      <th>18</th>\n",
       "      <td>Rouen</td>\n",
       "      <td>Hôtel Veryste Paris</td>\n",
       "      <td>9e arr., Paris</td>\n",
       "      <td>Situé à 10 minutes à pied de la gare du Nord, ...</td>\n",
       "      <td>8,4</td>\n",
       "      <td>https://www.booking.com/hotel/fr/riboutte-lafa...</td>\n",
       "    </tr>\n",
       "    <tr>\n",
       "      <th>19</th>\n",
       "      <td>Rouen</td>\n",
       "      <td>Hôtel Pavillon Bastille</td>\n",
       "      <td>12e arr., Paris</td>\n",
       "      <td>Situé en face de l’opéra Bastille, à seulement...</td>\n",
       "      <td>8,2</td>\n",
       "      <td>https://www.booking.com/hotel/fr/pavillonbasti...</td>\n",
       "    </tr>\n",
       "    <tr>\n",
       "      <th>20</th>\n",
       "      <td>Rouen</td>\n",
       "      <td>Le Grand Quartier</td>\n",
       "      <td>10e arr., Paris</td>\n",
       "      <td>Situé à 600 mètres de la station de métro Gare...</td>\n",
       "      <td>8,8</td>\n",
       "      <td>https://www.booking.com/hotel/fr/le-grand-quar...</td>\n",
       "    </tr>\n",
       "    <tr>\n",
       "      <th>21</th>\n",
       "      <td>Rouen</td>\n",
       "      <td>Hotel Whistler</td>\n",
       "      <td>10e arr., Paris</td>\n",
       "      <td>L’Hotel Whistler est situé dans le 10ème arron...</td>\n",
       "      <td>8,5</td>\n",
       "      <td>https://www.booking.com/hotel/fr/whistler.fr.h...</td>\n",
       "    </tr>\n",
       "    <tr>\n",
       "      <th>22</th>\n",
       "      <td>Rouen</td>\n",
       "      <td>Hotel des Vosges</td>\n",
       "      <td>20e arr., Paris</td>\n",
       "      <td>L'Hotel des Vosges vous accueille dans le XXe ...</td>\n",
       "      <td>8,0</td>\n",
       "      <td>https://www.booking.com/hotel/fr/des-vosges-pa...</td>\n",
       "    </tr>\n",
       "    <tr>\n",
       "      <th>23</th>\n",
       "      <td>Rouen</td>\n",
       "      <td>New Hôtel Gare Du Nord</td>\n",
       "      <td>10e arr., Paris</td>\n",
       "      <td>Occupant un immeuble haussmannien du centre de...</td>\n",
       "      <td>7,1</td>\n",
       "      <td>https://www.booking.com/hotel/fr/newhotel.fr.h...</td>\n",
       "    </tr>\n",
       "    <tr>\n",
       "      <th>24</th>\n",
       "      <td>Rouen</td>\n",
       "      <td>Hôtel Du Bois Champs-Elysées</td>\n",
       "      <td>16e arr., Paris</td>\n",
       "      <td>L'Hôtel Du Bois Champs-Elysées se situe à 450 ...</td>\n",
       "      <td>8,1</td>\n",
       "      <td>https://www.booking.com/hotel/fr/hotelduboispa...</td>\n",
       "    </tr>\n",
       "    <tr>\n",
       "      <th>25</th>\n",
       "      <td>Rouen</td>\n",
       "      <td>Hôtel Pavillon Bastille</td>\n",
       "      <td>12e arr., Paris</td>\n",
       "      <td>Situé en face de l’opéra Bastille, à seulement...</td>\n",
       "      <td>8,2</td>\n",
       "      <td>https://www.booking.com/hotel/fr/pavillonbasti...</td>\n",
       "    </tr>\n",
       "    <tr>\n",
       "      <th>26</th>\n",
       "      <td>Rouen</td>\n",
       "      <td>Hotel Whistler</td>\n",
       "      <td>10e arr., Paris</td>\n",
       "      <td>L’Hotel Whistler est situé dans le 10ème arron...</td>\n",
       "      <td>8,5</td>\n",
       "      <td>https://www.booking.com/hotel/fr/whistler.fr.h...</td>\n",
       "    </tr>\n",
       "    <tr>\n",
       "      <th>27</th>\n",
       "      <td>Rouen</td>\n",
       "      <td>Adagio Paris 19ème Cité de la Musique</td>\n",
       "      <td>19e arr., Paris</td>\n",
       "      <td>Situé à Paris, le Adagio Paris 19ème Cité de l...</td>\n",
       "      <td>7,6</td>\n",
       "      <td>https://www.booking.com/hotel/fr/hipark-paris-...</td>\n",
       "    </tr>\n",
       "    <tr>\n",
       "      <th>28</th>\n",
       "      <td>Rouen</td>\n",
       "      <td>Hotel du Collectionneur</td>\n",
       "      <td>8e arr., Paris</td>\n",
       "      <td>Situé à 10 minutes à pied de l’avenue des Cham...</td>\n",
       "      <td>7,2</td>\n",
       "      <td>https://www.booking.com/hotel/fr/collectionneu...</td>\n",
       "    </tr>\n",
       "    <tr>\n",
       "      <th>29</th>\n",
       "      <td>Rouen</td>\n",
       "      <td>Elysées Union</td>\n",
       "      <td>16e arr., Paris</td>\n",
       "      <td>Occupant un bâtiment du XIXe siècle à Paris, l...</td>\n",
       "      <td>8,2</td>\n",
       "      <td>https://www.booking.com/hotel/fr/elyseesunion....</td>\n",
       "    </tr>\n",
       "    <tr>\n",
       "      <th>30</th>\n",
       "      <td>Rouen</td>\n",
       "      <td>Hôtel Belloy Saint Germain</td>\n",
       "      <td>6e arr., Paris</td>\n",
       "      <td>L'hôtel Belloy Saint Germain est situé dans le...</td>\n",
       "      <td>8,0</td>\n",
       "      <td>https://www.booking.com/hotel/fr/belloy.fr.htm...</td>\n",
       "    </tr>\n",
       "    <tr>\n",
       "      <th>31</th>\n",
       "      <td>Rouen</td>\n",
       "      <td>Normandy Le Chantier</td>\n",
       "      <td>1er arr., Paris</td>\n",
       "      <td>Le Normandy Le Chantier est situé à 5 minutes ...</td>\n",
       "      <td>8,2</td>\n",
       "      <td>https://www.booking.com/hotel/fr/normandyhotel...</td>\n",
       "    </tr>\n",
       "    <tr>\n",
       "      <th>32</th>\n",
       "      <td>Rouen</td>\n",
       "      <td>Le Pergolèse Paris Champs Elysées</td>\n",
       "      <td>16e arr., Paris</td>\n",
       "      <td>Le Pergolèse Paris Champs Elysées est situé à ...</td>\n",
       "      <td>8,6</td>\n",
       "      <td>https://www.booking.com/hotel/fr/hotelpergoles...</td>\n",
       "    </tr>\n",
       "    <tr>\n",
       "      <th>33</th>\n",
       "      <td>Rouen</td>\n",
       "      <td>Atlantic Hotel</td>\n",
       "      <td>8e arr., Paris</td>\n",
       "      <td>Doté d'une connexion Wi-Fi gratuite dans l'ens...</td>\n",
       "      <td>8,7</td>\n",
       "      <td>https://www.booking.com/hotel/fr/atlantic-pari...</td>\n",
       "    </tr>\n",
       "    <tr>\n",
       "      <th>34</th>\n",
       "      <td>Rouen</td>\n",
       "      <td>Citadines Saint-Germain-des-Prés Paris</td>\n",
       "      <td>6e arr., Paris</td>\n",
       "      <td>Le Citadines Saint-Germain-des-Prés Paris béné...</td>\n",
       "      <td>8,1</td>\n",
       "      <td>https://www.booking.com/hotel/fr/citadines-apa...</td>\n",
       "    </tr>\n",
       "    <tr>\n",
       "      <th>35</th>\n",
       "      <td>Rouen</td>\n",
       "      <td>Le Tsuba Hotel</td>\n",
       "      <td>17e arr., Paris</td>\n",
       "      <td>L’établissement Le Tsuba Hotel propose des héb...</td>\n",
       "      <td>8,8</td>\n",
       "      <td>https://www.booking.com/hotel/fr/le-tsuba.fr.h...</td>\n",
       "    </tr>\n",
       "    <tr>\n",
       "      <th>36</th>\n",
       "      <td>Rouen</td>\n",
       "      <td>Hotel Brady - Gare de l'Est</td>\n",
       "      <td>10e arr., Paris</td>\n",
       "      <td>Situé dans le centre de Paris, l'Hôtel Brady -...</td>\n",
       "      <td>7,9</td>\n",
       "      <td>https://www.booking.com/hotel/fr/hotel-brady-g...</td>\n",
       "    </tr>\n",
       "    <tr>\n",
       "      <th>37</th>\n",
       "      <td>Rouen</td>\n",
       "      <td>Hotel Trianon Rive Gauche</td>\n",
       "      <td>6e arr., Paris</td>\n",
       "      <td>Doté de chambres décorées avec goût, l’Hotel T...</td>\n",
       "      <td>7,8</td>\n",
       "      <td>https://www.booking.com/hotel/fr/trianon-rive-...</td>\n",
       "    </tr>\n",
       "    <tr>\n",
       "      <th>38</th>\n",
       "      <td>Rouen</td>\n",
       "      <td>Hotel Zora</td>\n",
       "      <td>2e arr., Paris</td>\n",
       "      <td>Situé à 800 mètres du centre Pompidou, l'Hotel...</td>\n",
       "      <td>8,3</td>\n",
       "      <td>https://www.booking.com/hotel/fr/zora.fr.html?...</td>\n",
       "    </tr>\n",
       "    <tr>\n",
       "      <th>39</th>\n",
       "      <td>Rouen</td>\n",
       "      <td>Jardins Eiffel</td>\n",
       "      <td>7e arr., Paris</td>\n",
       "      <td>L’hôtel Jardins Eiffel est idéalement situé da...</td>\n",
       "      <td>8,4</td>\n",
       "      <td>https://www.booking.com/hotel/fr/hoteljardinse...</td>\n",
       "    </tr>\n",
       "    <tr>\n",
       "      <th>40</th>\n",
       "      <td>Rouen</td>\n",
       "      <td>Oceania Paris Porte De Versailles</td>\n",
       "      <td>15e arr., Paris</td>\n",
       "      <td>Situé à Paris, à proximité de la porte de Vers...</td>\n",
       "      <td>7,8</td>\n",
       "      <td>https://www.booking.com/hotel/fr/hotel-oceania...</td>\n",
       "    </tr>\n",
       "    <tr>\n",
       "      <th>41</th>\n",
       "      <td>Rouen</td>\n",
       "      <td>Le 20 Prieuré Hôtel</td>\n",
       "      <td>11e arr., Paris</td>\n",
       "      <td>Le 20 Prieuré Hôtel est situé dans le quartier...</td>\n",
       "      <td>7,9</td>\n",
       "      <td>https://www.booking.com/hotel/fr/le-20-prieure...</td>\n",
       "    </tr>\n",
       "    <tr>\n",
       "      <th>42</th>\n",
       "      <td>Rouen</td>\n",
       "      <td>Transparent Marais</td>\n",
       "      <td>3e arr., Paris</td>\n",
       "      <td>Le Transparent Marais est situé à Paris, à 400...</td>\n",
       "      <td>8,4</td>\n",
       "      <td>https://www.booking.com/hotel/fr/transparent-m...</td>\n",
       "    </tr>\n",
       "    <tr>\n",
       "      <th>43</th>\n",
       "      <td>Rouen</td>\n",
       "      <td>My Maison In Paris Invalides</td>\n",
       "      <td>7e arr., Paris</td>\n",
       "      <td>Le My Maison In Paris Invalides propose des hé...</td>\n",
       "      <td>9,2</td>\n",
       "      <td>https://www.booking.com/hotel/fr/my-maison-in-...</td>\n",
       "    </tr>\n",
       "    <tr>\n",
       "      <th>44</th>\n",
       "      <td>Rouen</td>\n",
       "      <td>Hotel Westminster</td>\n",
       "      <td>2e arr., Paris</td>\n",
       "      <td>L'Hotel Westminster est situé dans le centre d...</td>\n",
       "      <td>7,7</td>\n",
       "      <td>https://www.booking.com/hotel/fr/hotelwestmins...</td>\n",
       "    </tr>\n",
       "    <tr>\n",
       "      <th>45</th>\n",
       "      <td>Rouen</td>\n",
       "      <td>George Sand</td>\n",
       "      <td>9e arr., Paris</td>\n",
       "      <td>L'établissement George Sand est situé près des...</td>\n",
       "      <td>8,6</td>\n",
       "      <td>https://www.booking.com/hotel/fr/george-sand.f...</td>\n",
       "    </tr>\n",
       "    <tr>\n",
       "      <th>46</th>\n",
       "      <td>Rouen</td>\n",
       "      <td>Royal Madeleine Hotel &amp; Spa</td>\n",
       "      <td>8e arr., Paris</td>\n",
       "      <td>Situé à Paris, le Royal Madeleine Hotel &amp; Spa ...</td>\n",
       "      <td>8,5</td>\n",
       "      <td>https://www.booking.com/hotel/fr/royal-madelei...</td>\n",
       "    </tr>\n",
       "    <tr>\n",
       "      <th>47</th>\n",
       "      <td>Rouen</td>\n",
       "      <td>Hotel Eden Montmartre</td>\n",
       "      <td>18e arr., Paris</td>\n",
       "      <td>L'Eden Hotel se trouve au pied du quartier his...</td>\n",
       "      <td>7,9</td>\n",
       "      <td>https://www.booking.com/hotel/fr/hoteledenmont...</td>\n",
       "    </tr>\n",
       "    <tr>\n",
       "      <th>48</th>\n",
       "      <td>Rouen</td>\n",
       "      <td>Hotel 29 Lepic</td>\n",
       "      <td>18e arr., Paris</td>\n",
       "      <td>L’Hôtel 29 Lepic est situé au cœur de la ville...</td>\n",
       "      <td>8,0</td>\n",
       "      <td>https://www.booking.com/hotel/fr/vingtneuf-lep...</td>\n",
       "    </tr>\n",
       "    <tr>\n",
       "      <th>49</th>\n",
       "      <td>Rouen</td>\n",
       "      <td>Hotel Opéra Opal</td>\n",
       "      <td>8e arr., Paris</td>\n",
       "      <td>L'établissement 4 étoiles Hôtel Opéra Opal vou...</td>\n",
       "      <td>8,5</td>\n",
       "      <td>https://www.booking.com/hotel/fr/hotelopal.fr....</td>\n",
       "    </tr>\n",
       "  </tbody>\n",
       "</table>\n",
       "</div>"
      ],
      "text/plain": [
       "     city                                  name_hotel              Loc  \\\n",
       "0   Rouen                         Urban Bivouac Hotel  13e arr., Paris   \n",
       "1   Rouen                    Belambra City - Magendie  13e arr., Paris   \n",
       "2   Rouen             OKKO Hotels Paris Gare de l'Est  10e arr., Paris   \n",
       "3   Rouen  HIGHSTAY - Le Marais - Serviced Apartments   3e arr., Paris   \n",
       "4   Rouen      LivinParis - Luxury 2 Bedrooms Opera I  10e arr., Paris   \n",
       "5   Rouen                         Le Marceau Bastille  12e arr., Paris   \n",
       "6   Rouen                Pullman Paris Centre - Bercy  12e arr., Paris   \n",
       "7   Rouen                   Hotel Ile de France Opéra   2e arr., Paris   \n",
       "8   Rouen                      Les Patios du Marais 1   3e arr., Paris   \n",
       "9   Rouen       Hôtel La Nouvelle République & Hammam  11e arr., Paris   \n",
       "10  Rouen                            Hotel Aix Europe  10e arr., Paris   \n",
       "11  Rouen                              Hotel B Square  17e arr., Paris   \n",
       "12  Rouen            Hôtel Du Midi Paris Montparnasse  14e arr., Paris   \n",
       "13  Rouen                          Hôtel Villa Bohème   9e arr., Paris   \n",
       "14  Rouen                           Hotel Westminster   2e arr., Paris   \n",
       "15  Rouen              Hotel Marais Grands Boulevards   3e arr., Paris   \n",
       "16  Rouen                         District Republique  10e arr., Paris   \n",
       "17  Rouen                     Hotel du Collectionneur   8e arr., Paris   \n",
       "18  Rouen                         Hôtel Veryste Paris   9e arr., Paris   \n",
       "19  Rouen                     Hôtel Pavillon Bastille  12e arr., Paris   \n",
       "20  Rouen                           Le Grand Quartier  10e arr., Paris   \n",
       "21  Rouen                              Hotel Whistler  10e arr., Paris   \n",
       "22  Rouen                            Hotel des Vosges  20e arr., Paris   \n",
       "23  Rouen                      New Hôtel Gare Du Nord  10e arr., Paris   \n",
       "24  Rouen                Hôtel Du Bois Champs-Elysées  16e arr., Paris   \n",
       "25  Rouen                     Hôtel Pavillon Bastille  12e arr., Paris   \n",
       "26  Rouen                              Hotel Whistler  10e arr., Paris   \n",
       "27  Rouen       Adagio Paris 19ème Cité de la Musique  19e arr., Paris   \n",
       "28  Rouen                     Hotel du Collectionneur   8e arr., Paris   \n",
       "29  Rouen                               Elysées Union  16e arr., Paris   \n",
       "30  Rouen                  Hôtel Belloy Saint Germain   6e arr., Paris   \n",
       "31  Rouen                        Normandy Le Chantier  1er arr., Paris   \n",
       "32  Rouen           Le Pergolèse Paris Champs Elysées  16e arr., Paris   \n",
       "33  Rouen                              Atlantic Hotel   8e arr., Paris   \n",
       "34  Rouen      Citadines Saint-Germain-des-Prés Paris   6e arr., Paris   \n",
       "35  Rouen                              Le Tsuba Hotel  17e arr., Paris   \n",
       "36  Rouen                 Hotel Brady - Gare de l'Est  10e arr., Paris   \n",
       "37  Rouen                   Hotel Trianon Rive Gauche   6e arr., Paris   \n",
       "38  Rouen                                  Hotel Zora   2e arr., Paris   \n",
       "39  Rouen                              Jardins Eiffel   7e arr., Paris   \n",
       "40  Rouen           Oceania Paris Porte De Versailles  15e arr., Paris   \n",
       "41  Rouen                         Le 20 Prieuré Hôtel  11e arr., Paris   \n",
       "42  Rouen                          Transparent Marais   3e arr., Paris   \n",
       "43  Rouen                My Maison In Paris Invalides   7e arr., Paris   \n",
       "44  Rouen                           Hotel Westminster   2e arr., Paris   \n",
       "45  Rouen                                 George Sand   9e arr., Paris   \n",
       "46  Rouen                 Royal Madeleine Hotel & Spa   8e arr., Paris   \n",
       "47  Rouen                       Hotel Eden Montmartre  18e arr., Paris   \n",
       "48  Rouen                              Hotel 29 Lepic  18e arr., Paris   \n",
       "49  Rouen                            Hotel Opéra Opal   8e arr., Paris   \n",
       "\n",
       "                                          Description Rating  \\\n",
       "0   L’Urban Bivouac Hotel propose des hébergements...    8,7   \n",
       "1   L’hôtel Belambra City - Magendie se trouve à 1...    7,7   \n",
       "2   L’OKKO Hotels Paris Gare de l'Est est situé à ...    8,3   \n",
       "3   Le HIGHSTAY - Le Marais - Serviced Apartments ...    8,8   \n",
       "4   Situé à Paris, à moins de 1 km de la station d...    8,4   \n",
       "5   Situé à 550 mètres de la place de la Bastille ...    8,6   \n",
       "6   Le Pullman Paris Centre - Bercy vous accueille...    8,3   \n",
       "7   L'hôtel Île de France Opéra occupe un bâtiment...    7,6   \n",
       "8   L'établissement Les Patios du Marais propose d...    7,3   \n",
       "9   Situé dans le 11ème arrondissement de Paris, l...    8,7   \n",
       "10  Doté d'une connexion Wi-Fi gratuite dans l'ens...    7,1   \n",
       "11  Situé à 5 minutes à pied de l'animation de la ...    7,7   \n",
       "12  L'Hôtel Du Midi Paris Montparnasse est situé p...    8,3   \n",
       "13  Situé à moins de 5 minutes à pied des stations...    8,2   \n",
       "14  L'Hotel Westminster est situé dans le centre d...    7,7   \n",
       "15  L'Hôtel Marais Grands Boulevards est idéalemen...    8,0   \n",
       "16  Situé à Paris, le District République se situe...    8,3   \n",
       "17  Situé à 10 minutes à pied de l’avenue des Cham...    7,2   \n",
       "18  Situé à 10 minutes à pied de la gare du Nord, ...    8,4   \n",
       "19  Situé en face de l’opéra Bastille, à seulement...    8,2   \n",
       "20  Situé à 600 mètres de la station de métro Gare...    8,8   \n",
       "21  L’Hotel Whistler est situé dans le 10ème arron...    8,5   \n",
       "22  L'Hotel des Vosges vous accueille dans le XXe ...    8,0   \n",
       "23  Occupant un immeuble haussmannien du centre de...    7,1   \n",
       "24  L'Hôtel Du Bois Champs-Elysées se situe à 450 ...    8,1   \n",
       "25  Situé en face de l’opéra Bastille, à seulement...    8,2   \n",
       "26  L’Hotel Whistler est situé dans le 10ème arron...    8,5   \n",
       "27  Situé à Paris, le Adagio Paris 19ème Cité de l...    7,6   \n",
       "28  Situé à 10 minutes à pied de l’avenue des Cham...    7,2   \n",
       "29  Occupant un bâtiment du XIXe siècle à Paris, l...    8,2   \n",
       "30  L'hôtel Belloy Saint Germain est situé dans le...    8,0   \n",
       "31  Le Normandy Le Chantier est situé à 5 minutes ...    8,2   \n",
       "32  Le Pergolèse Paris Champs Elysées est situé à ...    8,6   \n",
       "33  Doté d'une connexion Wi-Fi gratuite dans l'ens...    8,7   \n",
       "34  Le Citadines Saint-Germain-des-Prés Paris béné...    8,1   \n",
       "35  L’établissement Le Tsuba Hotel propose des héb...    8,8   \n",
       "36  Situé dans le centre de Paris, l'Hôtel Brady -...    7,9   \n",
       "37  Doté de chambres décorées avec goût, l’Hotel T...    7,8   \n",
       "38  Situé à 800 mètres du centre Pompidou, l'Hotel...    8,3   \n",
       "39  L’hôtel Jardins Eiffel est idéalement situé da...    8,4   \n",
       "40  Situé à Paris, à proximité de la porte de Vers...    7,8   \n",
       "41  Le 20 Prieuré Hôtel est situé dans le quartier...    7,9   \n",
       "42  Le Transparent Marais est situé à Paris, à 400...    8,4   \n",
       "43  Le My Maison In Paris Invalides propose des hé...    9,2   \n",
       "44  L'Hotel Westminster est situé dans le centre d...    7,7   \n",
       "45  L'établissement George Sand est situé près des...    8,6   \n",
       "46  Situé à Paris, le Royal Madeleine Hotel & Spa ...    8,5   \n",
       "47  L'Eden Hotel se trouve au pied du quartier his...    7,9   \n",
       "48  L’Hôtel 29 Lepic est situé au cœur de la ville...    8,0   \n",
       "49  L'établissement 4 étoiles Hôtel Opéra Opal vou...    8,5   \n",
       "\n",
       "                                                 Link  \n",
       "0   https://www.booking.com/hotel/fr/ub-paris.fr.h...  \n",
       "1   https://www.booking.com/hotel/fr/belambra-city...  \n",
       "2   https://www.booking.com/hotel/fr/okko-hotels-p...  \n",
       "3   https://www.booking.com/hotel/fr/highstay-reau...  \n",
       "4   https://www.booking.com/hotel/fr/luxury-apartm...  \n",
       "5   https://www.booking.com/hotel/fr/le-marceau-ba...  \n",
       "6   https://www.booking.com/hotel/fr/pullman-paris...  \n",
       "7   https://www.booking.com/hotel/fr/idfo.fr.html?...  \n",
       "8   https://www.booking.com/hotel/fr/les-patios-du...  \n",
       "9   https://www.booking.com/hotel/fr/la-nouvelle-r...  \n",
       "10  https://www.booking.com/hotel/fr/aix-europe.fr...  \n",
       "11  https://www.booking.com/hotel/fr/batignollesvi...  \n",
       "12  https://www.booking.com/hotel/fr/du-midi-paris...  \n",
       "13  https://www.booking.com/hotel/fr/ha-tel-villa-...  \n",
       "14  https://www.booking.com/hotel/fr/hotelwestmins...  \n",
       "15  https://www.booking.com/hotel/fr/bestwesternfr...  \n",
       "16  https://www.booking.com/hotel/fr/district-repu...  \n",
       "17  https://www.booking.com/hotel/fr/collectionneu...  \n",
       "18  https://www.booking.com/hotel/fr/riboutte-lafa...  \n",
       "19  https://www.booking.com/hotel/fr/pavillonbasti...  \n",
       "20  https://www.booking.com/hotel/fr/le-grand-quar...  \n",
       "21  https://www.booking.com/hotel/fr/whistler.fr.h...  \n",
       "22  https://www.booking.com/hotel/fr/des-vosges-pa...  \n",
       "23  https://www.booking.com/hotel/fr/newhotel.fr.h...  \n",
       "24  https://www.booking.com/hotel/fr/hotelduboispa...  \n",
       "25  https://www.booking.com/hotel/fr/pavillonbasti...  \n",
       "26  https://www.booking.com/hotel/fr/whistler.fr.h...  \n",
       "27  https://www.booking.com/hotel/fr/hipark-paris-...  \n",
       "28  https://www.booking.com/hotel/fr/collectionneu...  \n",
       "29  https://www.booking.com/hotel/fr/elyseesunion....  \n",
       "30  https://www.booking.com/hotel/fr/belloy.fr.htm...  \n",
       "31  https://www.booking.com/hotel/fr/normandyhotel...  \n",
       "32  https://www.booking.com/hotel/fr/hotelpergoles...  \n",
       "33  https://www.booking.com/hotel/fr/atlantic-pari...  \n",
       "34  https://www.booking.com/hotel/fr/citadines-apa...  \n",
       "35  https://www.booking.com/hotel/fr/le-tsuba.fr.h...  \n",
       "36  https://www.booking.com/hotel/fr/hotel-brady-g...  \n",
       "37  https://www.booking.com/hotel/fr/trianon-rive-...  \n",
       "38  https://www.booking.com/hotel/fr/zora.fr.html?...  \n",
       "39  https://www.booking.com/hotel/fr/hoteljardinse...  \n",
       "40  https://www.booking.com/hotel/fr/hotel-oceania...  \n",
       "41  https://www.booking.com/hotel/fr/le-20-prieure...  \n",
       "42  https://www.booking.com/hotel/fr/transparent-m...  \n",
       "43  https://www.booking.com/hotel/fr/my-maison-in-...  \n",
       "44  https://www.booking.com/hotel/fr/hotelwestmins...  \n",
       "45  https://www.booking.com/hotel/fr/george-sand.f...  \n",
       "46  https://www.booking.com/hotel/fr/royal-madelei...  \n",
       "47  https://www.booking.com/hotel/fr/hoteledenmont...  \n",
       "48  https://www.booking.com/hotel/fr/vingtneuf-lep...  \n",
       "49  https://www.booking.com/hotel/fr/hotelopal.fr....  "
      ]
     },
     "execution_count": 2,
     "metadata": {},
     "output_type": "execute_result"
    }
   ],
   "source": [
    "df_ = get_data_by_city('Rouen' , 1)\n",
    "df_"
   ]
  }
 ],
 "metadata": {
  "kernelspec": {
   "display_name": "Python 3",
   "language": "python",
   "name": "python3"
  },
  "language_info": {
   "codemirror_mode": {
    "name": "ipython",
    "version": 3
   },
   "file_extension": ".py",
   "mimetype": "text/x-python",
   "name": "python",
   "nbconvert_exporter": "python",
   "pygments_lexer": "ipython3",
   "version": "3.10.5"
  },
  "orig_nbformat": 4
 },
 "nbformat": 4,
 "nbformat_minor": 2
}
