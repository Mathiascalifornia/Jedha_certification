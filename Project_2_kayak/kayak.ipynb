{
 "cells": [
  {
   "cell_type": "code",
   "execution_count": null,
   "metadata": {},
   "outputs": [],
   "source": [
    "import pandas as pd , numpy as np , requests\n",
    "from statistics import mode\n",
    "from tqdm import tqdm\n",
    "\n",
    "import matplotlib.pyplot as plt , seaborn as sns\n",
    "import plotly.graph_objects as go , plotly.express as px\n",
    "\n",
    "\n",
    "import boto3\n",
    "import mysql.connector\n",
    "\n",
    "\n",
    "import warnings\n",
    "warnings.filterwarnings('ignore')"
   ]
  },
  {
   "cell_type": "code",
   "execution_count": null,
   "metadata": {},
   "outputs": [],
   "source": [
    "##### Constant ##### \n",
    "liste_city = [\"Mont Saint Michel\",\n",
    "\"St Malo\",\n",
    "\"Bayeux\",\n",
    "\"Le Havre\",\n",
    "\"Rouen\",\n",
    "\"Paris\",\n",
    "\"Amiens\",\n",
    "\"Lille\",\n",
    "\"Strasbourg\",\n",
    "\"Chateau du Haut Koenigsbourg\",\n",
    "\"Colmar\",\n",
    "\"Eguisheim\",\n",
    "\"Besancon\",\n",
    "\"Dijon\",\n",
    "\"Annecy\",\n",
    "\"Grenoble\",\n",
    "\"Lyon\",\n",
    "\"Gorges du Verdon\",\n",
    "\"Bormes les Mimosas\",\n",
    "\"Cassis\",\n",
    "\"Marseille\",\n",
    "\"Aix en Provence\",\n",
    "\"Avignon\",\n",
    "\"Uzes\",\n",
    "\"Nimes\",\n",
    "\"Aigues Mortes\",\n",
    "\"Saintes Maries de la mer\",\n",
    "\"Collioure\",\n",
    "\"Carcassonne\",\n",
    "\"Ariege\",\n",
    "\"Toulouse\",\n",
    "\"Montauban\",\n",
    "\"Biarritz\",\n",
    "\"Bayonne\",\n",
    "\"La Rochelle\"]\n",
    "\n",
    "api_gps = 'https://nominatim.org/'\n",
    "api_weather = 'https://openweathermap.org/api/one-call-api'\n",
    "api_weather_key = ''\n",
    "credentials = open('C:\\\\Users\\\\lucas\\\\OneDrive\\\\Bureau\\\\Credential_aws.txt' , 'r').readlines()\n",
    "api_key = credentials[0].split()[0]\n",
    "api_secret_key = credentials[0].split()[1]"
   ]
  },
  {
   "attachments": {},
   "cell_type": "markdown",
   "metadata": {},
   "source": [
    "## Get GPS data\n",
    "Use https://nominatim.org/ to get the gps coordinates of all the cities (no subscription required) Documentation : https://nominatim.org/release-docs/develop/api/Search/"
   ]
  },
  {
   "cell_type": "code",
   "execution_count": null,
   "metadata": {},
   "outputs": [],
   "source": [
    "def get_coordinates(address):\n",
    "    url = 'https://nominatim.openstreetmap.org/search'\n",
    "    params = {'q': address, 'format': 'jsonv2'}\n",
    "    response = requests.get(url, params=params).json()\n",
    "    if len(response) > 0:\n",
    "        lat = response[0]['lat']\n",
    "        lon = response[0]['lon']\n",
    "        return (float(lat), float(lon))\n",
    "    else:\n",
    "        return None\n",
    "    \n",
    "\n",
    "lat , long = [] , []    \n",
    "for city in tqdm(liste_city):\n",
    "\n",
    "    tuple_latlong = get_coordinates(address=city)\n",
    "    lat.append(tuple_latlong[0])\n",
    "    long.append(tuple_latlong[1])\n",
    "\n",
    "\n",
    "df = pd.DataFrame({'City' : liste_city , 'Lat' : lat , 'Long' : long})\n",
    "df.head()"
   ]
  },
  {
   "attachments": {},
   "cell_type": "markdown",
   "metadata": {},
   "source": [
    "## Get weather data\n",
    "Use https://openweathermap.org/appid (you have to subscribe to get a free apikey) and https://openweathermap.org/api/one-call-api to get some information about the weather for the 35 cities and put it in a DataFrame"
   ]
  },
  {
   "cell_type": "code",
   "execution_count": null,
   "metadata": {},
   "outputs": [],
   "source": [
    "mean_temps , mean_prob , most_freq_weather = [] , [] , []\n",
    "for i in range(len(df)):\n",
    "    \n",
    "    lat = df.iloc[i]['Lat']\n",
    "    long = df.iloc[i]['Long']\n",
    "\n",
    "    url = f'https://api.openweathermap.org/data/3.0/onecall?lat={lat}&lon={long}&exclude=current,minutely,hourly,alerts&units=metric&appid={api_weather_key}'\n",
    "    response = requests.get(url).json()\n",
    "    \n",
    "    temps , prob , weather = [] , [] , []\n",
    "    for j in range(len(response['daily'])):\n",
    "        weather.append(response['daily'][j]['weather'][0]['main']) # Main meteo\n",
    "        prob.append(response['daily'][j]['pop'] * 10) # Probality of precipitation\n",
    "        temps.append(response['daily'][j]['feels_like']['day']) # Global temperature of the day\n",
    "\n",
    "    mean_temps.append(np.mean(temps))\n",
    "    mean_prob.append(np.mean(prob))\n",
    "    most_freq_weather.append(mode(weather))\n",
    "    \n",
    "\n",
    "score = np.array(mean_temps) - np.array(mean_prob) # The KPI here is temperature_of_the_day - (prob_rain * 10) , and the weather has to be sunny\n",
    "assert len(mean_prob) == len(mean_temps) == len(most_freq_weather) == len(score)\n",
    "\n",
    "df['score_7_days'] = score \n",
    "df['mean_temperature_7_days'] = mean_temps\n",
    "df['most_freq_weather_7_days'] = most_freq_weather\n",
    "df['mean_prob_of_rain_7_days'] = np.array(mean_prob) / 10\n",
    "\n",
    "\n",
    "df = df.sort_values(by='score_7_days' , ascending=False).reset_index(drop=True)\n",
    "df_bestdest = df[df['most_freq_weather_7_days'] != 'Rain']\n",
    "df.to_csv('df_with_weather.csv')\n",
    "df_bestdest.to_csv('df_best_destination.csv')\n",
    "df.head()"
   ]
  },
  {
   "attachments": {},
   "cell_type": "markdown",
   "metadata": {},
   "source": [
    "## Find the nicest weather\n",
    "Determine the list of cities where the weather will be the nicest within the next 7 days For example, you can use the values of daily.pop and daily.rain to compute the expected volume of rain within the next 7 days... But it's only an example, actually you can have different opinions on a what a nice weather would be like 😎 Maybe the most important criterion for you is the temperature or humidity, so feel free to change the rules !\n",
    "\n",
    "#### Save all the results in a .csv file\n",
    "Save all the results in a .csv file, you will use it later 😉 You can save all the informations that seem important to you ! Don't forget to save the name of the cities, and also to create a column containing a unique identifier (id) of each city (this is important for what's next in the project)\n",
    "\n",
    "#### Use plotly to display the best destinations on a map "
   ]
  },
  {
   "cell_type": "code",
   "execution_count": null,
   "metadata": {},
   "outputs": [],
   "source": [
    "fig = px.scatter_mapbox(df_bestdest.head(), lat=\"Lat\", lon=\"Long\", hover_name = 'City', zoom = 5,\n",
    "                        hover_data={\n",
    "        'Lat': False,\n",
    "        'Long': False,\n",
    "        'score_7_days':False,\n",
    "        'City': True,\n",
    "        'mean_temperature_7_days': True,\n",
    "        }, \n",
    "                        color = 'City', color_discrete_sequence = px.colors.sequential.Inferno, template='plotly', size='score_7_days',\n",
    "                        mapbox_style='open-street-map',width = 1050, height = 900,\n",
    "                        title='Best rated cities (with the best weather in the next 7 days)')\n",
    "fig.show()"
   ]
  },
  {
   "attachments": {},
   "cell_type": "markdown",
   "metadata": {},
   "source": [
    "## Scrape Booking.com\n",
    "Since BookingHoldings doesn't have aggregated databases, it will be much faster to scrape data directly from booking.com\n",
    "\n",
    "You can scrap as many information as you want, but we suggest that you get at least:\n",
    "\n",
    "- hotel name,\n",
    "- Url to its booking.com page,\n",
    "- Its coordinates: latitude and longitude\n",
    "- Score given by the website users\n",
    "- Text description of the hotel\n",
    "- Create your data lake using S3\n",
    "- Once you managed to build your dataset, you should store into S3 as a csv file."
   ]
  },
  {
   "cell_type": "code",
   "execution_count": null,
   "metadata": {},
   "outputs": [],
   "source": [
    "\n",
    "df_scraped = pd.read_csv('Scraped_df.csv' , index_col='Unnamed: 0')\n",
    "\n",
    "lats , longs = [] , []\n",
    "for adress in tqdm(list(df_scraped['Adress'])):\n",
    "        try:\n",
    "            lat , long = get_coordinates(adress)\n",
    "            lats.append(lat)\n",
    "            longs.append(long)\n",
    "\n",
    "        except TypeError:\n",
    "            lats.append(np.nan)\n",
    "            longs.append(np.nan)\n",
    "\n",
    "assert len(lats) == len(longs) == len(df_scraped)\n",
    "\n",
    "df_scraped['Lat'] = lats \n",
    "df_scraped['Long'] = longs\n",
    "\n",
    "df_scraped.to_csv('df_scraped_with_lat_long.csv')"
   ]
  },
  {
   "attachments": {},
   "cell_type": "markdown",
   "metadata": {},
   "source": [
    "## Send data to my data lake"
   ]
  },
  {
   "cell_type": "code",
   "execution_count": null,
   "metadata": {},
   "outputs": [],
   "source": [
    "# Merge all the informations\n",
    "df_scp_with_lat_long = pd.read_csv('df_scraped_with_lat_long.csv' , index_col='Unnamed: 0')\n",
    "df_with_weather = pd.read_csv('df_with_weather.csv' , index_col='Unnamed: 0')\n",
    "merged = df_scp_with_lat_long.merge(df_with_weather.drop(['Lat' , 'Long'] , axis=1) , how='left' , on='City').sort_values(by='score_7_days' , ascending=False)\n",
    "merged.to_csv('Full_df.csv' , index=False)\n",
    "\n",
    "# Connect to my account\n",
    "s3 = boto3.client('s3', aws_access_key_id=api_key, aws_secret_access_key=api_secret_key)\n",
    "bucket_name = 'kayakprojectlucas'\n",
    "\n",
    "# Send the CSV files\n",
    "s3.upload_file('Full_df.csv', bucket_name, 'Full_df.csv')"
   ]
  },
  {
   "attachments": {},
   "cell_type": "markdown",
   "metadata": {},
   "source": [
    "## Map of the 20 best destinations"
   ]
  },
  {
   "cell_type": "code",
   "execution_count": null,
   "metadata": {},
   "outputs": [],
   "source": [
    "# Get the best destination in the best cities\n",
    "to_plot = merged[merged['City'].isin(df_bestdest['City'].head())].groupby('City' , as_index=False).apply(lambda x: x.nlargest(4, 'Rating')).reset_index(drop=True)\n",
    "\n",
    "# Plot the figure\n",
    "fig = px.scatter_mapbox(to_plot , lat=\"Lat\", lon=\"Long\", hover_name = 'Name', zoom = 5,\n",
    "                        hover_data={\n",
    "        'Lat': False,\n",
    "        'Long': False,\n",
    "        'score_7_days':False,\n",
    "        'Name' : True,\n",
    "        'City': True,\n",
    "        'mean_temperature_7_days': True,\n",
    "        }, \n",
    "                        color = 'City', color_discrete_sequence = px.colors.sequential.Inferno, template='plotly', size='Rating',\n",
    "                        mapbox_style='open-street-map',width = 1050, height = 900,\n",
    "                        title='Best rated hotels in selected cities (with the best weather in the next 7 days)')\n",
    "\n",
    "\n",
    "fig.show()"
   ]
  }
 ],
 "metadata": {
  "language_info": {
   "name": "python"
  },
  "orig_nbformat": 4
 },
 "nbformat": 4,
 "nbformat_minor": 2
}
