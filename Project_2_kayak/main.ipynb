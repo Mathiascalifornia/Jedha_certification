{
 "cells": [
  {
   "cell_type": "code",
   "execution_count": 16,
   "metadata": {},
   "outputs": [],
   "source": [
    "import pandas as pd , numpy as np , requests\n",
    "from statistics import mode\n",
    "from tqdm import tqdm\n",
    "\n",
    "import matplotlib.pyplot as plt , seaborn as sns\n",
    "import plotly.graph_objects as go , plotly.express as px\n",
    "\n",
    "\n",
    "import boto3\n",
    "import mysql.connector\n",
    "\n",
    "\n",
    "import warnings\n",
    "warnings.filterwarnings('ignore')"
   ]
  },
  {
   "cell_type": "code",
   "execution_count": 2,
   "metadata": {},
   "outputs": [],
   "source": [
    "##### Constant ##### \n",
    "liste_city = [\"Mont Saint Michel\",\n",
    "\"St Malo\",\n",
    "\"Bayeux\",\n",
    "\"Le Havre\",\n",
    "\"Rouen\",\n",
    "\"Paris\",\n",
    "\"Amiens\",\n",
    "\"Lille\",\n",
    "\"Strasbourg\",\n",
    "\"Chateau du Haut Koenigsbourg\",\n",
    "\"Colmar\",\n",
    "\"Eguisheim\",\n",
    "\"Besancon\",\n",
    "\"Dijon\",\n",
    "\"Annecy\",\n",
    "\"Grenoble\",\n",
    "\"Lyon\",\n",
    "\"Gorges du Verdon\",\n",
    "\"Bormes les Mimosas\",\n",
    "\"Cassis\",\n",
    "\"Marseille\",\n",
    "\"Aix en Provence\",\n",
    "\"Avignon\",\n",
    "\"Uzes\",\n",
    "\"Nimes\",\n",
    "\"Aigues Mortes\",\n",
    "\"Saintes Maries de la mer\",\n",
    "\"Collioure\",\n",
    "\"Carcassonne\",\n",
    "\"Ariege\",\n",
    "\"Toulouse\",\n",
    "\"Montauban\",\n",
    "\"Biarritz\",\n",
    "\"Bayonne\",\n",
    "\"La Rochelle\"]\n",
    "\n",
    "api_gps = 'https://nominatim.org/'\n",
    "api_weather = 'https://openweathermap.org/api/one-call-api'\n",
    "api_weather_key = '',
    "credentials = open('C:\\\\Users\\\\lucas\\\\OneDrive\\\\Bureau\\\\Credential_aws.txt' , 'r').readlines()\n",
    "api_key = credentials[0].split()[0]\n",
    "api_secret_key = credentials[0].split()[1]"
   ]
  },
  {
   "attachments": {},
   "cell_type": "markdown",
   "metadata": {},
   "source": [
    "## Get GPS data\n",
    "Use https://nominatim.org/ to get the gps coordinates of all the cities (no subscription required) Documentation : https://nominatim.org/release-docs/develop/api/Search/"
   ]
  },
  {
   "cell_type": "code",
   "execution_count": 3,
   "metadata": {},
   "outputs": [
    {
     "name": "stderr",
     "output_type": "stream",
     "text": [
      "100%|██████████| 35/35 [00:17<00:00,  2.04it/s]\n"
     ]
    },
    {
     "data": {
      "text/html": [
       "<div>\n",
       "<style scoped>\n",
       "    .dataframe tbody tr th:only-of-type {\n",
       "        vertical-align: middle;\n",
       "    }\n",
       "\n",
       "    .dataframe tbody tr th {\n",
       "        vertical-align: top;\n",
       "    }\n",
       "\n",
       "    .dataframe thead th {\n",
       "        text-align: right;\n",
       "    }\n",
       "</style>\n",
       "<table border=\"1\" class=\"dataframe\">\n",
       "  <thead>\n",
       "    <tr style=\"text-align: right;\">\n",
       "      <th></th>\n",
       "      <th>City</th>\n",
       "      <th>Lat</th>\n",
       "      <th>Long</th>\n",
       "    </tr>\n",
       "  </thead>\n",
       "  <tbody>\n",
       "    <tr>\n",
       "      <th>0</th>\n",
       "      <td>Mont Saint Michel</td>\n",
       "      <td>48.635954</td>\n",
       "      <td>-1.511460</td>\n",
       "    </tr>\n",
       "    <tr>\n",
       "      <th>1</th>\n",
       "      <td>St Malo</td>\n",
       "      <td>48.649518</td>\n",
       "      <td>-2.026041</td>\n",
       "    </tr>\n",
       "    <tr>\n",
       "      <th>2</th>\n",
       "      <td>Bayeux</td>\n",
       "      <td>49.276462</td>\n",
       "      <td>-0.702474</td>\n",
       "    </tr>\n",
       "    <tr>\n",
       "      <th>3</th>\n",
       "      <td>Le Havre</td>\n",
       "      <td>49.493898</td>\n",
       "      <td>0.107973</td>\n",
       "    </tr>\n",
       "    <tr>\n",
       "      <th>4</th>\n",
       "      <td>Rouen</td>\n",
       "      <td>49.440459</td>\n",
       "      <td>1.093966</td>\n",
       "    </tr>\n",
       "  </tbody>\n",
       "</table>\n",
       "</div>"
      ],
      "text/plain": [
       "                City        Lat      Long\n",
       "0  Mont Saint Michel  48.635954 -1.511460\n",
       "1            St Malo  48.649518 -2.026041\n",
       "2             Bayeux  49.276462 -0.702474\n",
       "3           Le Havre  49.493898  0.107973\n",
       "4              Rouen  49.440459  1.093966"
      ]
     },
     "execution_count": 3,
     "metadata": {},
     "output_type": "execute_result"
    }
   ],
   "source": [
    "def get_coordinates(address):\n",
    "    url = 'https://nominatim.openstreetmap.org/search'\n",
    "    params = {'q': address, 'format': 'jsonv2'}\n",
    "    response = requests.get(url, params=params).json()\n",
    "    if len(response) > 0:\n",
    "        lat = response[0]['lat']\n",
    "        lon = response[0]['lon']\n",
    "        return (float(lat), float(lon))\n",
    "    else:\n",
    "        return None\n",
    "    \n",
    "\n",
    "lat , long = [] , []    \n",
    "for city in tqdm(liste_city):\n",
    "\n",
    "    tuple_latlong = get_coordinates(address=city)\n",
    "    lat.append(tuple_latlong[0])\n",
    "    long.append(tuple_latlong[1])\n",
    "\n",
    "\n",
    "df = pd.DataFrame({'City' : liste_city , 'Lat' : lat , 'Long' : long})\n",
    "df.head()"
   ]
  },
  {
   "attachments": {},
   "cell_type": "markdown",
   "metadata": {},
   "source": [
    "## Get weather data\n",
    "Use https://openweathermap.org/appid (you have to subscribe to get a free apikey) and https://openweathermap.org/api/one-call-api to get some information about the weather for the 35 cities and put it in a DataFrame"
   ]
  },
  {
   "cell_type": "code",
   "execution_count": 4,
   "metadata": {},
   "outputs": [
    {
     "data": {
      "text/html": [
       "<div>\n",
       "<style scoped>\n",
       "    .dataframe tbody tr th:only-of-type {\n",
       "        vertical-align: middle;\n",
       "    }\n",
       "\n",
       "    .dataframe tbody tr th {\n",
       "        vertical-align: top;\n",
       "    }\n",
       "\n",
       "    .dataframe thead th {\n",
       "        text-align: right;\n",
       "    }\n",
       "</style>\n",
       "<table border=\"1\" class=\"dataframe\">\n",
       "  <thead>\n",
       "    <tr style=\"text-align: right;\">\n",
       "      <th></th>\n",
       "      <th>City</th>\n",
       "      <th>Lat</th>\n",
       "      <th>Long</th>\n",
       "      <th>score_7_days</th>\n",
       "      <th>mean_temperature_7_days</th>\n",
       "      <th>most_freq_weather_7_days</th>\n",
       "      <th>mean_prob_of_rain_7_days</th>\n",
       "    </tr>\n",
       "  </thead>\n",
       "  <tbody>\n",
       "    <tr>\n",
       "      <th>0</th>\n",
       "      <td>Collioure</td>\n",
       "      <td>42.525050</td>\n",
       "      <td>3.083155</td>\n",
       "      <td>12.91125</td>\n",
       "      <td>13.94875</td>\n",
       "      <td>Clouds</td>\n",
       "      <td>0.10375</td>\n",
       "    </tr>\n",
       "    <tr>\n",
       "      <th>1</th>\n",
       "      <td>Nimes</td>\n",
       "      <td>43.837425</td>\n",
       "      <td>4.360069</td>\n",
       "      <td>12.70125</td>\n",
       "      <td>13.93875</td>\n",
       "      <td>Clear</td>\n",
       "      <td>0.12375</td>\n",
       "    </tr>\n",
       "    <tr>\n",
       "      <th>2</th>\n",
       "      <td>Avignon</td>\n",
       "      <td>43.949249</td>\n",
       "      <td>4.805901</td>\n",
       "      <td>12.11500</td>\n",
       "      <td>13.00250</td>\n",
       "      <td>Clouds</td>\n",
       "      <td>0.08875</td>\n",
       "    </tr>\n",
       "    <tr>\n",
       "      <th>3</th>\n",
       "      <td>Aigues Mortes</td>\n",
       "      <td>43.565823</td>\n",
       "      <td>4.191284</td>\n",
       "      <td>11.98750</td>\n",
       "      <td>13.27500</td>\n",
       "      <td>Clear</td>\n",
       "      <td>0.12875</td>\n",
       "    </tr>\n",
       "    <tr>\n",
       "      <th>4</th>\n",
       "      <td>Aix en Provence</td>\n",
       "      <td>43.529842</td>\n",
       "      <td>5.447474</td>\n",
       "      <td>11.85125</td>\n",
       "      <td>13.36375</td>\n",
       "      <td>Clouds</td>\n",
       "      <td>0.15125</td>\n",
       "    </tr>\n",
       "  </tbody>\n",
       "</table>\n",
       "</div>"
      ],
      "text/plain": [
       "              City        Lat      Long  score_7_days  \\\n",
       "0        Collioure  42.525050  3.083155      12.91125   \n",
       "1            Nimes  43.837425  4.360069      12.70125   \n",
       "2          Avignon  43.949249  4.805901      12.11500   \n",
       "3    Aigues Mortes  43.565823  4.191284      11.98750   \n",
       "4  Aix en Provence  43.529842  5.447474      11.85125   \n",
       "\n",
       "   mean_temperature_7_days most_freq_weather_7_days  mean_prob_of_rain_7_days  \n",
       "0                 13.94875                   Clouds                   0.10375  \n",
       "1                 13.93875                    Clear                   0.12375  \n",
       "2                 13.00250                   Clouds                   0.08875  \n",
       "3                 13.27500                    Clear                   0.12875  \n",
       "4                 13.36375                   Clouds                   0.15125  "
      ]
     },
     "execution_count": 4,
     "metadata": {},
     "output_type": "execute_result"
    }
   ],
   "source": [
    "mean_temps , mean_prob , most_freq_weather = [] , [] , []\n",
    "for i in range(len(df)):\n",
    "    \n",
    "    lat = df.iloc[i]['Lat']\n",
    "    long = df.iloc[i]['Long']\n",
    "\n",
    "    url = f'https://api.openweathermap.org/data/3.0/onecall?lat={lat}&lon={long}&exclude=current,minutely,hourly,alerts&units=metric&appid={api_weather_key}'\n",
    "    response = requests.get(url).json()\n",
    "    \n",
    "    temps , prob , weather = [] , [] , []\n",
    "    for j in range(len(response['daily'])):\n",
    "        weather.append(response['daily'][j]['weather'][0]['main']) # Main meteo\n",
    "        prob.append(response['daily'][j]['pop'] * 10) # Probality of precipitation\n",
    "        temps.append(response['daily'][j]['feels_like']['day']) # Global temperature of the day\n",
    "\n",
    "    mean_temps.append(np.mean(temps))\n",
    "    mean_prob.append(np.mean(prob))\n",
    "    most_freq_weather.append(mode(weather))\n",
    "    \n",
    "\n",
    "score = np.array(mean_temps) - np.array(mean_prob) # The KPI here is temperature_of_the_day - (prob_rain * 10) , and the weather has to be sunny\n",
    "assert len(mean_prob) == len(mean_temps) == len(most_freq_weather) == len(score)\n",
    "\n",
    "df['score_7_days'] = score \n",
    "df['mean_temperature_7_days'] = mean_temps\n",
    "df['most_freq_weather_7_days'] = most_freq_weather\n",
    "df['mean_prob_of_rain_7_days'] = np.array(mean_prob) / 10\n",
    "\n",
    "\n",
    "df = df.sort_values(by='score_7_days' , ascending=False).reset_index(drop=True)\n",
    "df_bestdest = df[df['most_freq_weather_7_days'] != 'Rain']\n",
    "df.to_csv('df_with_weather.csv')\n",
    "df_bestdest.to_csv('df_best_destination.csv')\n",
    "df.head()"
   ]
  },
  {
   "attachments": {},
   "cell_type": "markdown",
   "metadata": {},
   "source": [
    "## Find the nicest weather\n",
    "Determine the list of cities where the weather will be the nicest within the next 7 days For example, you can use the values of daily.pop and daily.rain to compute the expected volume of rain within the next 7 days... But it's only an example, actually you can have different opinions on a what a nice weather would be like 😎 Maybe the most important criterion for you is the temperature or humidity, so feel free to change the rules !"
   ]
  },
  {
   "attachments": {},
   "cell_type": "markdown",
   "metadata": {},
   "source": [
    "## Save all the results in a .csv file\n",
    "Save all the results in a .csv file, you will use it later 😉 You can save all the informations that seem important to you ! Don't forget to save the name of the cities, and also to create a column containing a unique identifier (id) of each city (this is important for what's next in the project)"
   ]
  },
  {
   "attachments": {},
   "cell_type": "markdown",
   "metadata": {},
   "source": [
    "## Use plotly to display the best destinations on a map "
   ]
  },
  {
   "cell_type": "code",
   "execution_count": 5,
   "metadata": {},
   "outputs": [
    {
     "data": {
      "application/vnd.plotly.v1+json": {
       "config": {
        "plotlyServerURL": "https://plot.ly"
       },
       "data": [
        {
         "customdata": [
          [
           42.52505,
           3.0831554,
           12.91125,
           "Collioure",
           13.94875
          ]
         ],
         "hovertemplate": "<b>%{hovertext}</b><br><br>City=%{customdata[3]}<br>mean_temperature_7_days=%{customdata[4]}<extra></extra>",
         "hovertext": [
          "Collioure"
         ],
         "lat": [
          42.52505
         ],
         "legendgroup": "Collioure",
         "lon": [
          3.0831554
         ],
         "marker": {
          "color": "#000004",
          "size": [
           12.91125
          ],
          "sizemode": "area",
          "sizeref": 0.032278125000000005
         },
         "mode": "markers",
         "name": "Collioure",
         "showlegend": true,
         "subplot": "mapbox",
         "type": "scattermapbox"
        },
        {
         "customdata": [
          [
           43.8374249,
           4.3600687,
           12.701249999999998,
           "Nimes",
           13.938749999999999
          ]
         ],
         "hovertemplate": "<b>%{hovertext}</b><br><br>City=%{customdata[3]}<br>mean_temperature_7_days=%{customdata[4]}<extra></extra>",
         "hovertext": [
          "Nimes"
         ],
         "lat": [
          43.8374249
         ],
         "legendgroup": "Nimes",
         "lon": [
          4.3600687
         ],
         "marker": {
          "color": "#1b0c41",
          "size": [
           12.701249999999998
          ],
          "sizemode": "area",
          "sizeref": 0.032278125000000005
         },
         "mode": "markers",
         "name": "Nimes",
         "showlegend": true,
         "subplot": "mapbox",
         "type": "scattermapbox"
        },
        {
         "customdata": [
          [
           43.9492493,
           4.8059012,
           12.115,
           "Avignon",
           13.0025
          ]
         ],
         "hovertemplate": "<b>%{hovertext}</b><br><br>City=%{customdata[3]}<br>mean_temperature_7_days=%{customdata[4]}<extra></extra>",
         "hovertext": [
          "Avignon"
         ],
         "lat": [
          43.9492493
         ],
         "legendgroup": "Avignon",
         "lon": [
          4.8059012
         ],
         "marker": {
          "color": "#4a0c6b",
          "size": [
           12.115
          ],
          "sizemode": "area",
          "sizeref": 0.032278125000000005
         },
         "mode": "markers",
         "name": "Avignon",
         "showlegend": true,
         "subplot": "mapbox",
         "type": "scattermapbox"
        },
        {
         "customdata": [
          [
           43.5658225,
           4.1912837,
           11.9875,
           "Aigues Mortes",
           13.275
          ]
         ],
         "hovertemplate": "<b>%{hovertext}</b><br><br>City=%{customdata[3]}<br>mean_temperature_7_days=%{customdata[4]}<extra></extra>",
         "hovertext": [
          "Aigues Mortes"
         ],
         "lat": [
          43.5658225
         ],
         "legendgroup": "Aigues Mortes",
         "lon": [
          4.1912837
         ],
         "marker": {
          "color": "#781c6d",
          "size": [
           11.9875
          ],
          "sizemode": "area",
          "sizeref": 0.032278125000000005
         },
         "mode": "markers",
         "name": "Aigues Mortes",
         "showlegend": true,
         "subplot": "mapbox",
         "type": "scattermapbox"
        },
        {
         "customdata": [
          [
           43.5298424,
           5.4474738,
           11.85125,
           "Aix en Provence",
           13.36375
          ]
         ],
         "hovertemplate": "<b>%{hovertext}</b><br><br>City=%{customdata[3]}<br>mean_temperature_7_days=%{customdata[4]}<extra></extra>",
         "hovertext": [
          "Aix en Provence"
         ],
         "lat": [
          43.5298424
         ],
         "legendgroup": "Aix en Provence",
         "lon": [
          5.4474738
         ],
         "marker": {
          "color": "#a52c60",
          "size": [
           11.85125
          ],
          "sizemode": "area",
          "sizeref": 0.032278125000000005
         },
         "mode": "markers",
         "name": "Aix en Provence",
         "showlegend": true,
         "subplot": "mapbox",
         "type": "scattermapbox"
        }
       ],
       "layout": {
        "height": 900,
        "legend": {
         "itemsizing": "constant",
         "title": {
          "text": "City"
         },
         "tracegroupgap": 0
        },
        "mapbox": {
         "center": {
          "lat": 43.481477819999995,
          "lon": 4.37757656
         },
         "domain": {
          "x": [
           0,
           1
          ],
          "y": [
           0,
           1
          ]
         },
         "style": "open-street-map",
         "zoom": 5
        },
        "template": {
         "data": {
          "bar": [
           {
            "error_x": {
             "color": "#2a3f5f"
            },
            "error_y": {
             "color": "#2a3f5f"
            },
            "marker": {
             "line": {
              "color": "#E5ECF6",
              "width": 0.5
             },
             "pattern": {
              "fillmode": "overlay",
              "size": 10,
              "solidity": 0.2
             }
            },
            "type": "bar"
           }
          ],
          "barpolar": [
           {
            "marker": {
             "line": {
              "color": "#E5ECF6",
              "width": 0.5
             },
             "pattern": {
              "fillmode": "overlay",
              "size": 10,
              "solidity": 0.2
             }
            },
            "type": "barpolar"
           }
          ],
          "carpet": [
           {
            "aaxis": {
             "endlinecolor": "#2a3f5f",
             "gridcolor": "white",
             "linecolor": "white",
             "minorgridcolor": "white",
             "startlinecolor": "#2a3f5f"
            },
            "baxis": {
             "endlinecolor": "#2a3f5f",
             "gridcolor": "white",
             "linecolor": "white",
             "minorgridcolor": "white",
             "startlinecolor": "#2a3f5f"
            },
            "type": "carpet"
           }
          ],
          "choropleth": [
           {
            "colorbar": {
             "outlinewidth": 0,
             "ticks": ""
            },
            "type": "choropleth"
           }
          ],
          "contour": [
           {
            "colorbar": {
             "outlinewidth": 0,
             "ticks": ""
            },
            "colorscale": [
             [
              0,
              "#0d0887"
             ],
             [
              0.1111111111111111,
              "#46039f"
             ],
             [
              0.2222222222222222,
              "#7201a8"
             ],
             [
              0.3333333333333333,
              "#9c179e"
             ],
             [
              0.4444444444444444,
              "#bd3786"
             ],
             [
              0.5555555555555556,
              "#d8576b"
             ],
             [
              0.6666666666666666,
              "#ed7953"
             ],
             [
              0.7777777777777778,
              "#fb9f3a"
             ],
             [
              0.8888888888888888,
              "#fdca26"
             ],
             [
              1,
              "#f0f921"
             ]
            ],
            "type": "contour"
           }
          ],
          "contourcarpet": [
           {
            "colorbar": {
             "outlinewidth": 0,
             "ticks": ""
            },
            "type": "contourcarpet"
           }
          ],
          "heatmap": [
           {
            "colorbar": {
             "outlinewidth": 0,
             "ticks": ""
            },
            "colorscale": [
             [
              0,
              "#0d0887"
             ],
             [
              0.1111111111111111,
              "#46039f"
             ],
             [
              0.2222222222222222,
              "#7201a8"
             ],
             [
              0.3333333333333333,
              "#9c179e"
             ],
             [
              0.4444444444444444,
              "#bd3786"
             ],
             [
              0.5555555555555556,
              "#d8576b"
             ],
             [
              0.6666666666666666,
              "#ed7953"
             ],
             [
              0.7777777777777778,
              "#fb9f3a"
             ],
             [
              0.8888888888888888,
              "#fdca26"
             ],
             [
              1,
              "#f0f921"
             ]
            ],
            "type": "heatmap"
           }
          ],
          "heatmapgl": [
           {
            "colorbar": {
             "outlinewidth": 0,
             "ticks": ""
            },
            "colorscale": [
             [
              0,
              "#0d0887"
             ],
             [
              0.1111111111111111,
              "#46039f"
             ],
             [
              0.2222222222222222,
              "#7201a8"
             ],
             [
              0.3333333333333333,
              "#9c179e"
             ],
             [
              0.4444444444444444,
              "#bd3786"
             ],
             [
              0.5555555555555556,
              "#d8576b"
             ],
             [
              0.6666666666666666,
              "#ed7953"
             ],
             [
              0.7777777777777778,
              "#fb9f3a"
             ],
             [
              0.8888888888888888,
              "#fdca26"
             ],
             [
              1,
              "#f0f921"
             ]
            ],
            "type": "heatmapgl"
           }
          ],
          "histogram": [
           {
            "marker": {
             "pattern": {
              "fillmode": "overlay",
              "size": 10,
              "solidity": 0.2
             }
            },
            "type": "histogram"
           }
          ],
          "histogram2d": [
           {
            "colorbar": {
             "outlinewidth": 0,
             "ticks": ""
            },
            "colorscale": [
             [
              0,
              "#0d0887"
             ],
             [
              0.1111111111111111,
              "#46039f"
             ],
             [
              0.2222222222222222,
              "#7201a8"
             ],
             [
              0.3333333333333333,
              "#9c179e"
             ],
             [
              0.4444444444444444,
              "#bd3786"
             ],
             [
              0.5555555555555556,
              "#d8576b"
             ],
             [
              0.6666666666666666,
              "#ed7953"
             ],
             [
              0.7777777777777778,
              "#fb9f3a"
             ],
             [
              0.8888888888888888,
              "#fdca26"
             ],
             [
              1,
              "#f0f921"
             ]
            ],
            "type": "histogram2d"
           }
          ],
          "histogram2dcontour": [
           {
            "colorbar": {
             "outlinewidth": 0,
             "ticks": ""
            },
            "colorscale": [
             [
              0,
              "#0d0887"
             ],
             [
              0.1111111111111111,
              "#46039f"
             ],
             [
              0.2222222222222222,
              "#7201a8"
             ],
             [
              0.3333333333333333,
              "#9c179e"
             ],
             [
              0.4444444444444444,
              "#bd3786"
             ],
             [
              0.5555555555555556,
              "#d8576b"
             ],
             [
              0.6666666666666666,
              "#ed7953"
             ],
             [
              0.7777777777777778,
              "#fb9f3a"
             ],
             [
              0.8888888888888888,
              "#fdca26"
             ],
             [
              1,
              "#f0f921"
             ]
            ],
            "type": "histogram2dcontour"
           }
          ],
          "mesh3d": [
           {
            "colorbar": {
             "outlinewidth": 0,
             "ticks": ""
            },
            "type": "mesh3d"
           }
          ],
          "parcoords": [
           {
            "line": {
             "colorbar": {
              "outlinewidth": 0,
              "ticks": ""
             }
            },
            "type": "parcoords"
           }
          ],
          "pie": [
           {
            "automargin": true,
            "type": "pie"
           }
          ],
          "scatter": [
           {
            "fillpattern": {
             "fillmode": "overlay",
             "size": 10,
             "solidity": 0.2
            },
            "type": "scatter"
           }
          ],
          "scatter3d": [
           {
            "line": {
             "colorbar": {
              "outlinewidth": 0,
              "ticks": ""
             }
            },
            "marker": {
             "colorbar": {
              "outlinewidth": 0,
              "ticks": ""
             }
            },
            "type": "scatter3d"
           }
          ],
          "scattercarpet": [
           {
            "marker": {
             "colorbar": {
              "outlinewidth": 0,
              "ticks": ""
             }
            },
            "type": "scattercarpet"
           }
          ],
          "scattergeo": [
           {
            "marker": {
             "colorbar": {
              "outlinewidth": 0,
              "ticks": ""
             }
            },
            "type": "scattergeo"
           }
          ],
          "scattergl": [
           {
            "marker": {
             "colorbar": {
              "outlinewidth": 0,
              "ticks": ""
             }
            },
            "type": "scattergl"
           }
          ],
          "scattermapbox": [
           {
            "marker": {
             "colorbar": {
              "outlinewidth": 0,
              "ticks": ""
             }
            },
            "type": "scattermapbox"
           }
          ],
          "scatterpolar": [
           {
            "marker": {
             "colorbar": {
              "outlinewidth": 0,
              "ticks": ""
             }
            },
            "type": "scatterpolar"
           }
          ],
          "scatterpolargl": [
           {
            "marker": {
             "colorbar": {
              "outlinewidth": 0,
              "ticks": ""
             }
            },
            "type": "scatterpolargl"
           }
          ],
          "scatterternary": [
           {
            "marker": {
             "colorbar": {
              "outlinewidth": 0,
              "ticks": ""
             }
            },
            "type": "scatterternary"
           }
          ],
          "surface": [
           {
            "colorbar": {
             "outlinewidth": 0,
             "ticks": ""
            },
            "colorscale": [
             [
              0,
              "#0d0887"
             ],
             [
              0.1111111111111111,
              "#46039f"
             ],
             [
              0.2222222222222222,
              "#7201a8"
             ],
             [
              0.3333333333333333,
              "#9c179e"
             ],
             [
              0.4444444444444444,
              "#bd3786"
             ],
             [
              0.5555555555555556,
              "#d8576b"
             ],
             [
              0.6666666666666666,
              "#ed7953"
             ],
             [
              0.7777777777777778,
              "#fb9f3a"
             ],
             [
              0.8888888888888888,
              "#fdca26"
             ],
             [
              1,
              "#f0f921"
             ]
            ],
            "type": "surface"
           }
          ],
          "table": [
           {
            "cells": {
             "fill": {
              "color": "#EBF0F8"
             },
             "line": {
              "color": "white"
             }
            },
            "header": {
             "fill": {
              "color": "#C8D4E3"
             },
             "line": {
              "color": "white"
             }
            },
            "type": "table"
           }
          ]
         },
         "layout": {
          "annotationdefaults": {
           "arrowcolor": "#2a3f5f",
           "arrowhead": 0,
           "arrowwidth": 1
          },
          "autotypenumbers": "strict",
          "coloraxis": {
           "colorbar": {
            "outlinewidth": 0,
            "ticks": ""
           }
          },
          "colorscale": {
           "diverging": [
            [
             0,
             "#8e0152"
            ],
            [
             0.1,
             "#c51b7d"
            ],
            [
             0.2,
             "#de77ae"
            ],
            [
             0.3,
             "#f1b6da"
            ],
            [
             0.4,
             "#fde0ef"
            ],
            [
             0.5,
             "#f7f7f7"
            ],
            [
             0.6,
             "#e6f5d0"
            ],
            [
             0.7,
             "#b8e186"
            ],
            [
             0.8,
             "#7fbc41"
            ],
            [
             0.9,
             "#4d9221"
            ],
            [
             1,
             "#276419"
            ]
           ],
           "sequential": [
            [
             0,
             "#0d0887"
            ],
            [
             0.1111111111111111,
             "#46039f"
            ],
            [
             0.2222222222222222,
             "#7201a8"
            ],
            [
             0.3333333333333333,
             "#9c179e"
            ],
            [
             0.4444444444444444,
             "#bd3786"
            ],
            [
             0.5555555555555556,
             "#d8576b"
            ],
            [
             0.6666666666666666,
             "#ed7953"
            ],
            [
             0.7777777777777778,
             "#fb9f3a"
            ],
            [
             0.8888888888888888,
             "#fdca26"
            ],
            [
             1,
             "#f0f921"
            ]
           ],
           "sequentialminus": [
            [
             0,
             "#0d0887"
            ],
            [
             0.1111111111111111,
             "#46039f"
            ],
            [
             0.2222222222222222,
             "#7201a8"
            ],
            [
             0.3333333333333333,
             "#9c179e"
            ],
            [
             0.4444444444444444,
             "#bd3786"
            ],
            [
             0.5555555555555556,
             "#d8576b"
            ],
            [
             0.6666666666666666,
             "#ed7953"
            ],
            [
             0.7777777777777778,
             "#fb9f3a"
            ],
            [
             0.8888888888888888,
             "#fdca26"
            ],
            [
             1,
             "#f0f921"
            ]
           ]
          },
          "colorway": [
           "#636efa",
           "#EF553B",
           "#00cc96",
           "#ab63fa",
           "#FFA15A",
           "#19d3f3",
           "#FF6692",
           "#B6E880",
           "#FF97FF",
           "#FECB52"
          ],
          "font": {
           "color": "#2a3f5f"
          },
          "geo": {
           "bgcolor": "white",
           "lakecolor": "white",
           "landcolor": "#E5ECF6",
           "showlakes": true,
           "showland": true,
           "subunitcolor": "white"
          },
          "hoverlabel": {
           "align": "left"
          },
          "hovermode": "closest",
          "mapbox": {
           "style": "light"
          },
          "paper_bgcolor": "white",
          "plot_bgcolor": "#E5ECF6",
          "polar": {
           "angularaxis": {
            "gridcolor": "white",
            "linecolor": "white",
            "ticks": ""
           },
           "bgcolor": "#E5ECF6",
           "radialaxis": {
            "gridcolor": "white",
            "linecolor": "white",
            "ticks": ""
           }
          },
          "scene": {
           "xaxis": {
            "backgroundcolor": "#E5ECF6",
            "gridcolor": "white",
            "gridwidth": 2,
            "linecolor": "white",
            "showbackground": true,
            "ticks": "",
            "zerolinecolor": "white"
           },
           "yaxis": {
            "backgroundcolor": "#E5ECF6",
            "gridcolor": "white",
            "gridwidth": 2,
            "linecolor": "white",
            "showbackground": true,
            "ticks": "",
            "zerolinecolor": "white"
           },
           "zaxis": {
            "backgroundcolor": "#E5ECF6",
            "gridcolor": "white",
            "gridwidth": 2,
            "linecolor": "white",
            "showbackground": true,
            "ticks": "",
            "zerolinecolor": "white"
           }
          },
          "shapedefaults": {
           "line": {
            "color": "#2a3f5f"
           }
          },
          "ternary": {
           "aaxis": {
            "gridcolor": "white",
            "linecolor": "white",
            "ticks": ""
           },
           "baxis": {
            "gridcolor": "white",
            "linecolor": "white",
            "ticks": ""
           },
           "bgcolor": "#E5ECF6",
           "caxis": {
            "gridcolor": "white",
            "linecolor": "white",
            "ticks": ""
           }
          },
          "title": {
           "x": 0.05
          },
          "xaxis": {
           "automargin": true,
           "gridcolor": "white",
           "linecolor": "white",
           "ticks": "",
           "title": {
            "standoff": 15
           },
           "zerolinecolor": "white",
           "zerolinewidth": 2
          },
          "yaxis": {
           "automargin": true,
           "gridcolor": "white",
           "linecolor": "white",
           "ticks": "",
           "title": {
            "standoff": 15
           },
           "zerolinecolor": "white",
           "zerolinewidth": 2
          }
         }
        },
        "title": {
         "text": "Best rated cities (with the best weather in the next 7 days)"
        },
        "width": 1050
       }
      }
     },
     "metadata": {},
     "output_type": "display_data"
    }
   ],
   "source": [
    "fig = px.scatter_mapbox(df_bestdest.head(), lat=\"Lat\", lon=\"Long\", hover_name = 'City', zoom = 5,\n",
    "                        hover_data={\n",
    "        'Lat': False,\n",
    "        'Long': False,\n",
    "        'score_7_days':False,\n",
    "        'City': True,\n",
    "        'mean_temperature_7_days': True,\n",
    "        }, \n",
    "                        color = 'City', color_discrete_sequence = px.colors.sequential.Inferno, template='plotly', size='score_7_days',\n",
    "                        mapbox_style='open-street-map',width = 1050, height = 900,\n",
    "                        title='Best rated cities (with the best weather in the next 7 days)')\n",
    "fig.show()\n"
   ]
  },
  {
   "attachments": {},
   "cell_type": "markdown",
   "metadata": {},
   "source": [
    "## Scrape Booking.com\n",
    "Since BookingHoldings doesn't have aggregated databases, it will be much faster to scrape data directly from booking.com\n",
    "\n",
    "You can scrap as many information as you want, but we suggest that you get at least:\n",
    "\n",
    "- hotel name,\n",
    "- Url to its booking.com page,\n",
    "- Its coordinates: latitude and longitude\n",
    "- Score given by the website users\n",
    "- Text description of the hotel\n",
    "- Create your data lake using S3\n",
    "- Once you managed to build your dataset, you should store into S3 as a csv file."
   ]
  },
  {
   "cell_type": "code",
   "execution_count": 6,
   "metadata": {},
   "outputs": [
    {
     "name": "stderr",
     "output_type": "stream",
     "text": [
      "100%|██████████| 819/819 [06:50<00:00,  2.00it/s]\n"
     ]
    }
   ],
   "source": [
    "\n",
    "df_scraped = pd.read_csv('Scraped_df.csv' , index_col='Unnamed: 0')\n",
    "\n",
    "lats , longs = [] , []\n",
    "for adress in tqdm(list(df_scraped['Adress'])):\n",
    "        try:\n",
    "            lat , long = get_coordinates(adress)\n",
    "            lats.append(lat)\n",
    "            longs.append(long)\n",
    "\n",
    "        except TypeError:\n",
    "            lats.append(np.nan)\n",
    "            longs.append(np.nan)\n",
    "\n",
    "assert len(lats) == len(longs) == len(df_scraped)\n",
    "\n",
    "df_scraped['Lat'] = lats \n",
    "df_scraped['Long'] = longs\n",
    "\n",
    "df_scraped.to_csv('df_scraped_with_lat_long.csv')\n",
    "\n"
   ]
  },
  {
   "attachments": {},
   "cell_type": "markdown",
   "metadata": {},
   "source": [
    "## Send data to my data lake"
   ]
  },
  {
   "cell_type": "code",
   "execution_count": 7,
   "metadata": {},
   "outputs": [],
   "source": [
    "# Merge all the informations\n",
    "df_scp_with_lat_long = pd.read_csv('df_scraped_with_lat_long.csv' , index_col='Unnamed: 0')\n",
    "df_with_weather = pd.read_csv('df_with_weather.csv' , index_col='Unnamed: 0')\n",
    "merged = df_scp_with_lat_long.merge(df_with_weather.drop(['Lat' , 'Long'] , axis=1) , how='left' , on='City').sort_values(by='score_7_days' , ascending=False)\n",
    "merged.to_csv('Full_df.csv' , index=False)\n",
    "\n",
    "# Connect to my account\n",
    "s3 = boto3.client('s3', aws_access_key_id=api_key, aws_secret_access_key=api_secret_key)\n",
    "bucket_name = 'kayakprojectlucas'\n",
    "\n",
    "# Send the CSV files\n",
    "s3.upload_file('Full_df.csv', bucket_name, 'Full_df.csv')"
   ]
  },
  {
   "attachments": {},
   "cell_type": "markdown",
   "metadata": {},
   "source": [
    "# Map of the 20 best destinations"
   ]
  },
  {
   "cell_type": "code",
   "execution_count": 14,
   "metadata": {},
   "outputs": [
    {
     "data": {
      "application/vnd.plotly.v1+json": {
       "config": {
        "plotlyServerURL": "https://plot.ly"
       },
       "data": [
        {
         "customdata": [
          [
           43.5648662,
           4.1941948,
           11.9875,
           "Au Cœur des Remparts",
           "Aigues Mortes",
           13.275
          ],
          [
           null,
           null,
           11.9875,
           "Séjour atypique et insolite sur notre péniche La Coradine avec jacuzzi",
           "Aigues Mortes",
           13.275
          ],
          [
           43.5679524,
           4.1908627,
           11.9875,
           "Boutique Hôtel des Remparts & Spa",
           "Aigues Mortes",
           13.275
          ],
          [
           43.5714039,
           4.1887572,
           11.9875,
           "11 le tadorne",
           "Aigues Mortes",
           13.275
          ]
         ],
         "hovertemplate": "<b>%{hovertext}</b><br><br>City=%{customdata[4]}<br>Rating=%{marker.size}<br>Name=%{customdata[3]}<br>mean_temperature_7_days=%{customdata[5]}<extra></extra>",
         "hovertext": [
          "Au Cœur des Remparts",
          "Séjour atypique et insolite sur notre péniche La Coradine avec jacuzzi",
          "Boutique Hôtel des Remparts & Spa",
          "11 le tadorne"
         ],
         "lat": [
          43.5648662,
          null,
          43.5679524,
          43.5714039
         ],
         "legendgroup": "Aigues Mortes",
         "lon": [
          4.1941948,
          null,
          4.1908627,
          4.1887572
         ],
         "marker": {
          "color": "#000004",
          "size": [
           9.9,
           9.7,
           9.5,
           9.4
          ],
          "sizemode": "area",
          "sizeref": 0.025
         },
         "mode": "markers",
         "name": "Aigues Mortes",
         "showlegend": true,
         "subplot": "mapbox",
         "type": "scattermapbox"
        },
        {
         "customdata": [
          [
           43.5295314,
           5.447026535004248,
           11.85125,
           "Triplex Les Cordeliers",
           "Aix en Provence",
           13.36375
          ],
          [
           43.51406,
           5.4431156,
           11.85125,
           "Chambre dans villa proche des universités",
           "Aix en Provence",
           13.36375
          ],
          [
           43.5097903,
           5.4449988,
           11.85125,
           "BASTIDON AIXOIS AUX PORTES DE LA VILLE",
           "Aix en Provence",
           13.36375
          ],
          [
           null,
           null,
           11.85125,
           "Appartement Chic proche du centre historique et de la Place des Cardeurs",
           "Aix en Provence",
           13.36375
          ]
         ],
         "hovertemplate": "<b>%{hovertext}</b><br><br>City=%{customdata[4]}<br>Rating=%{marker.size}<br>Name=%{customdata[3]}<br>mean_temperature_7_days=%{customdata[5]}<extra></extra>",
         "hovertext": [
          "Triplex Les Cordeliers",
          "Chambre dans villa proche des universités",
          "BASTIDON AIXOIS AUX PORTES DE LA VILLE",
          "Appartement Chic proche du centre historique et de la Place des Cardeurs"
         ],
         "lat": [
          43.5295314,
          43.51406,
          43.5097903,
          null
         ],
         "legendgroup": "Aix en Provence",
         "lon": [
          5.447026535004248,
          5.4431156,
          5.4449988,
          null
         ],
         "marker": {
          "color": "#1b0c41",
          "size": [
           10,
           9.5,
           9.4,
           9
          ],
          "sizemode": "area",
          "sizeref": 0.025
         },
         "mode": "markers",
         "name": "Aix en Provence",
         "showlegend": true,
         "subplot": "mapbox",
         "type": "scattermapbox"
        },
        {
         "customdata": [
          [
           43.9445362,
           4.809149,
           12.115,
           "Les Jardins de Baracane",
           "Avignon",
           13.0025
          ],
          [
           43.9471085,
           4.8033277,
           12.115,
           "Duplex climatisé-Hauteur sous plafond 1,9m-Parking privé gratuit-Netflix-Arrivée autonome !! Duplex-Ceiling height 1,9m-Free private parking-Netflix-Self check in",
           "Avignon",
           13.0025
          ],
          [
           43.9744526,
           4.8333493,
           12.115,
           "Domaine de Rhodes B&B",
           "Avignon",
           13.0025
          ],
          [
           null,
           null,
           12.115,
           "Appartement Plein Centre Avignon",
           "Avignon",
           13.0025
          ]
         ],
         "hovertemplate": "<b>%{hovertext}</b><br><br>City=%{customdata[4]}<br>Rating=%{marker.size}<br>Name=%{customdata[3]}<br>mean_temperature_7_days=%{customdata[5]}<extra></extra>",
         "hovertext": [
          "Les Jardins de Baracane",
          "Duplex climatisé-Hauteur sous plafond 1,9m-Parking privé gratuit-Netflix-Arrivée autonome !! Duplex-Ceiling height 1,9m-Free private parking-Netflix-Self check in",
          "Domaine de Rhodes B&B",
          "Appartement Plein Centre Avignon"
         ],
         "lat": [
          43.9445362,
          43.9471085,
          43.9744526,
          null
         ],
         "legendgroup": "Avignon",
         "lon": [
          4.809149,
          4.8033277,
          4.8333493,
          null
         ],
         "marker": {
          "color": "#4a0c6b",
          "size": [
           9.7,
           9.6,
           9.4,
           9.2
          ],
          "sizemode": "area",
          "sizeref": 0.025
         },
         "mode": "markers",
         "name": "Avignon",
         "showlegend": true,
         "subplot": "mapbox",
         "type": "scattermapbox"
        },
        {
         "customdata": [
          [
           42.5274048,
           3.0823353,
           12.91125,
           "Appartement Centre Collioure Patio Wifi Clim",
           "Collioure",
           13.94875
          ],
          [
           42.5233434,
           3.0967242,
           12.91125,
           "Les Roches Brunes",
           "Collioure",
           13.94875
          ],
          [
           null,
           null,
           12.91125,
           "T5 Corail - Centre - Rooftop - Barbecue - Parking",
           "Collioure",
           13.94875
          ],
          [
           42.5272906,
           3.0799934,
           12.91125,
           "Superbe appartement de 94m2 avec vue sur le Fort St Elme",
           "Collioure",
           13.94875
          ]
         ],
         "hovertemplate": "<b>%{hovertext}</b><br><br>City=%{customdata[4]}<br>Rating=%{marker.size}<br>Name=%{customdata[3]}<br>mean_temperature_7_days=%{customdata[5]}<extra></extra>",
         "hovertext": [
          "Appartement Centre Collioure Patio Wifi Clim",
          "Les Roches Brunes",
          "T5 Corail - Centre - Rooftop - Barbecue - Parking",
          "Superbe appartement de 94m2 avec vue sur le Fort St Elme"
         ],
         "lat": [
          42.5274048,
          42.5233434,
          null,
          42.5272906
         ],
         "legendgroup": "Collioure",
         "lon": [
          3.0823353,
          3.0967242,
          null,
          3.0799934
         ],
         "marker": {
          "color": "#781c6d",
          "size": [
           9.2,
           9.1,
           9,
           9
          ],
          "sizemode": "area",
          "sizeref": 0.025
         },
         "mode": "markers",
         "name": "Collioure",
         "showlegend": true,
         "subplot": "mapbox",
         "type": "scattermapbox"
        },
        {
         "customdata": [
          [
           43.8345594,
           4.3571434,
           12.701249999999998,
           "Antichambre",
           "Nimes",
           13.93875
          ],
          [
           null,
           null,
           12.701249999999998,
           "Roma Divine home cinéma et jardin",
           "Nimes",
           13.93875
          ],
          [
           43.8632992,
           4.3642846,
           12.701249999999998,
           "La chambre haute et son spa",
           "Nimes",
           13.93875
          ],
          [
           43.8532862,
           4.3517661,
           12.701249999999998,
           "Guest House Encantada",
           "Nimes",
           13.93875
          ]
         ],
         "hovertemplate": "<b>%{hovertext}</b><br><br>City=%{customdata[4]}<br>Rating=%{marker.size}<br>Name=%{customdata[3]}<br>mean_temperature_7_days=%{customdata[5]}<extra></extra>",
         "hovertext": [
          "Antichambre",
          "Roma Divine home cinéma et jardin",
          "La chambre haute et son spa",
          "Guest House Encantada"
         ],
         "lat": [
          43.8345594,
          null,
          43.8632992,
          43.8532862
         ],
         "legendgroup": "Nimes",
         "lon": [
          4.3571434,
          null,
          4.3642846,
          4.3517661
         ],
         "marker": {
          "color": "#a52c60",
          "size": [
           9.9,
           9.8,
           9.7,
           9.7
          ],
          "sizemode": "area",
          "sizeref": 0.025
         },
         "mode": "markers",
         "name": "Nimes",
         "showlegend": true,
         "subplot": "mapbox",
         "type": "scattermapbox"
        }
       ],
       "layout": {
        "height": 900,
        "legend": {
         "itemsizing": "constant",
         "title": {
          "text": "City"
         },
         "tracegroupgap": 0
        },
        "mapbox": {
         "center": {
          "lat": 43.48352567333333,
          "lon": 4.379135242333616
         },
         "domain": {
          "x": [
           0,
           1
          ],
          "y": [
           0,
           1
          ]
         },
         "style": "open-street-map",
         "zoom": 5
        },
        "template": {
         "data": {
          "bar": [
           {
            "error_x": {
             "color": "#2a3f5f"
            },
            "error_y": {
             "color": "#2a3f5f"
            },
            "marker": {
             "line": {
              "color": "#E5ECF6",
              "width": 0.5
             },
             "pattern": {
              "fillmode": "overlay",
              "size": 10,
              "solidity": 0.2
             }
            },
            "type": "bar"
           }
          ],
          "barpolar": [
           {
            "marker": {
             "line": {
              "color": "#E5ECF6",
              "width": 0.5
             },
             "pattern": {
              "fillmode": "overlay",
              "size": 10,
              "solidity": 0.2
             }
            },
            "type": "barpolar"
           }
          ],
          "carpet": [
           {
            "aaxis": {
             "endlinecolor": "#2a3f5f",
             "gridcolor": "white",
             "linecolor": "white",
             "minorgridcolor": "white",
             "startlinecolor": "#2a3f5f"
            },
            "baxis": {
             "endlinecolor": "#2a3f5f",
             "gridcolor": "white",
             "linecolor": "white",
             "minorgridcolor": "white",
             "startlinecolor": "#2a3f5f"
            },
            "type": "carpet"
           }
          ],
          "choropleth": [
           {
            "colorbar": {
             "outlinewidth": 0,
             "ticks": ""
            },
            "type": "choropleth"
           }
          ],
          "contour": [
           {
            "colorbar": {
             "outlinewidth": 0,
             "ticks": ""
            },
            "colorscale": [
             [
              0,
              "#0d0887"
             ],
             [
              0.1111111111111111,
              "#46039f"
             ],
             [
              0.2222222222222222,
              "#7201a8"
             ],
             [
              0.3333333333333333,
              "#9c179e"
             ],
             [
              0.4444444444444444,
              "#bd3786"
             ],
             [
              0.5555555555555556,
              "#d8576b"
             ],
             [
              0.6666666666666666,
              "#ed7953"
             ],
             [
              0.7777777777777778,
              "#fb9f3a"
             ],
             [
              0.8888888888888888,
              "#fdca26"
             ],
             [
              1,
              "#f0f921"
             ]
            ],
            "type": "contour"
           }
          ],
          "contourcarpet": [
           {
            "colorbar": {
             "outlinewidth": 0,
             "ticks": ""
            },
            "type": "contourcarpet"
           }
          ],
          "heatmap": [
           {
            "colorbar": {
             "outlinewidth": 0,
             "ticks": ""
            },
            "colorscale": [
             [
              0,
              "#0d0887"
             ],
             [
              0.1111111111111111,
              "#46039f"
             ],
             [
              0.2222222222222222,
              "#7201a8"
             ],
             [
              0.3333333333333333,
              "#9c179e"
             ],
             [
              0.4444444444444444,
              "#bd3786"
             ],
             [
              0.5555555555555556,
              "#d8576b"
             ],
             [
              0.6666666666666666,
              "#ed7953"
             ],
             [
              0.7777777777777778,
              "#fb9f3a"
             ],
             [
              0.8888888888888888,
              "#fdca26"
             ],
             [
              1,
              "#f0f921"
             ]
            ],
            "type": "heatmap"
           }
          ],
          "heatmapgl": [
           {
            "colorbar": {
             "outlinewidth": 0,
             "ticks": ""
            },
            "colorscale": [
             [
              0,
              "#0d0887"
             ],
             [
              0.1111111111111111,
              "#46039f"
             ],
             [
              0.2222222222222222,
              "#7201a8"
             ],
             [
              0.3333333333333333,
              "#9c179e"
             ],
             [
              0.4444444444444444,
              "#bd3786"
             ],
             [
              0.5555555555555556,
              "#d8576b"
             ],
             [
              0.6666666666666666,
              "#ed7953"
             ],
             [
              0.7777777777777778,
              "#fb9f3a"
             ],
             [
              0.8888888888888888,
              "#fdca26"
             ],
             [
              1,
              "#f0f921"
             ]
            ],
            "type": "heatmapgl"
           }
          ],
          "histogram": [
           {
            "marker": {
             "pattern": {
              "fillmode": "overlay",
              "size": 10,
              "solidity": 0.2
             }
            },
            "type": "histogram"
           }
          ],
          "histogram2d": [
           {
            "colorbar": {
             "outlinewidth": 0,
             "ticks": ""
            },
            "colorscale": [
             [
              0,
              "#0d0887"
             ],
             [
              0.1111111111111111,
              "#46039f"
             ],
             [
              0.2222222222222222,
              "#7201a8"
             ],
             [
              0.3333333333333333,
              "#9c179e"
             ],
             [
              0.4444444444444444,
              "#bd3786"
             ],
             [
              0.5555555555555556,
              "#d8576b"
             ],
             [
              0.6666666666666666,
              "#ed7953"
             ],
             [
              0.7777777777777778,
              "#fb9f3a"
             ],
             [
              0.8888888888888888,
              "#fdca26"
             ],
             [
              1,
              "#f0f921"
             ]
            ],
            "type": "histogram2d"
           }
          ],
          "histogram2dcontour": [
           {
            "colorbar": {
             "outlinewidth": 0,
             "ticks": ""
            },
            "colorscale": [
             [
              0,
              "#0d0887"
             ],
             [
              0.1111111111111111,
              "#46039f"
             ],
             [
              0.2222222222222222,
              "#7201a8"
             ],
             [
              0.3333333333333333,
              "#9c179e"
             ],
             [
              0.4444444444444444,
              "#bd3786"
             ],
             [
              0.5555555555555556,
              "#d8576b"
             ],
             [
              0.6666666666666666,
              "#ed7953"
             ],
             [
              0.7777777777777778,
              "#fb9f3a"
             ],
             [
              0.8888888888888888,
              "#fdca26"
             ],
             [
              1,
              "#f0f921"
             ]
            ],
            "type": "histogram2dcontour"
           }
          ],
          "mesh3d": [
           {
            "colorbar": {
             "outlinewidth": 0,
             "ticks": ""
            },
            "type": "mesh3d"
           }
          ],
          "parcoords": [
           {
            "line": {
             "colorbar": {
              "outlinewidth": 0,
              "ticks": ""
             }
            },
            "type": "parcoords"
           }
          ],
          "pie": [
           {
            "automargin": true,
            "type": "pie"
           }
          ],
          "scatter": [
           {
            "fillpattern": {
             "fillmode": "overlay",
             "size": 10,
             "solidity": 0.2
            },
            "type": "scatter"
           }
          ],
          "scatter3d": [
           {
            "line": {
             "colorbar": {
              "outlinewidth": 0,
              "ticks": ""
             }
            },
            "marker": {
             "colorbar": {
              "outlinewidth": 0,
              "ticks": ""
             }
            },
            "type": "scatter3d"
           }
          ],
          "scattercarpet": [
           {
            "marker": {
             "colorbar": {
              "outlinewidth": 0,
              "ticks": ""
             }
            },
            "type": "scattercarpet"
           }
          ],
          "scattergeo": [
           {
            "marker": {
             "colorbar": {
              "outlinewidth": 0,
              "ticks": ""
             }
            },
            "type": "scattergeo"
           }
          ],
          "scattergl": [
           {
            "marker": {
             "colorbar": {
              "outlinewidth": 0,
              "ticks": ""
             }
            },
            "type": "scattergl"
           }
          ],
          "scattermapbox": [
           {
            "marker": {
             "colorbar": {
              "outlinewidth": 0,
              "ticks": ""
             }
            },
            "type": "scattermapbox"
           }
          ],
          "scatterpolar": [
           {
            "marker": {
             "colorbar": {
              "outlinewidth": 0,
              "ticks": ""
             }
            },
            "type": "scatterpolar"
           }
          ],
          "scatterpolargl": [
           {
            "marker": {
             "colorbar": {
              "outlinewidth": 0,
              "ticks": ""
             }
            },
            "type": "scatterpolargl"
           }
          ],
          "scatterternary": [
           {
            "marker": {
             "colorbar": {
              "outlinewidth": 0,
              "ticks": ""
             }
            },
            "type": "scatterternary"
           }
          ],
          "surface": [
           {
            "colorbar": {
             "outlinewidth": 0,
             "ticks": ""
            },
            "colorscale": [
             [
              0,
              "#0d0887"
             ],
             [
              0.1111111111111111,
              "#46039f"
             ],
             [
              0.2222222222222222,
              "#7201a8"
             ],
             [
              0.3333333333333333,
              "#9c179e"
             ],
             [
              0.4444444444444444,
              "#bd3786"
             ],
             [
              0.5555555555555556,
              "#d8576b"
             ],
             [
              0.6666666666666666,
              "#ed7953"
             ],
             [
              0.7777777777777778,
              "#fb9f3a"
             ],
             [
              0.8888888888888888,
              "#fdca26"
             ],
             [
              1,
              "#f0f921"
             ]
            ],
            "type": "surface"
           }
          ],
          "table": [
           {
            "cells": {
             "fill": {
              "color": "#EBF0F8"
             },
             "line": {
              "color": "white"
             }
            },
            "header": {
             "fill": {
              "color": "#C8D4E3"
             },
             "line": {
              "color": "white"
             }
            },
            "type": "table"
           }
          ]
         },
         "layout": {
          "annotationdefaults": {
           "arrowcolor": "#2a3f5f",
           "arrowhead": 0,
           "arrowwidth": 1
          },
          "autotypenumbers": "strict",
          "coloraxis": {
           "colorbar": {
            "outlinewidth": 0,
            "ticks": ""
           }
          },
          "colorscale": {
           "diverging": [
            [
             0,
             "#8e0152"
            ],
            [
             0.1,
             "#c51b7d"
            ],
            [
             0.2,
             "#de77ae"
            ],
            [
             0.3,
             "#f1b6da"
            ],
            [
             0.4,
             "#fde0ef"
            ],
            [
             0.5,
             "#f7f7f7"
            ],
            [
             0.6,
             "#e6f5d0"
            ],
            [
             0.7,
             "#b8e186"
            ],
            [
             0.8,
             "#7fbc41"
            ],
            [
             0.9,
             "#4d9221"
            ],
            [
             1,
             "#276419"
            ]
           ],
           "sequential": [
            [
             0,
             "#0d0887"
            ],
            [
             0.1111111111111111,
             "#46039f"
            ],
            [
             0.2222222222222222,
             "#7201a8"
            ],
            [
             0.3333333333333333,
             "#9c179e"
            ],
            [
             0.4444444444444444,
             "#bd3786"
            ],
            [
             0.5555555555555556,
             "#d8576b"
            ],
            [
             0.6666666666666666,
             "#ed7953"
            ],
            [
             0.7777777777777778,
             "#fb9f3a"
            ],
            [
             0.8888888888888888,
             "#fdca26"
            ],
            [
             1,
             "#f0f921"
            ]
           ],
           "sequentialminus": [
            [
             0,
             "#0d0887"
            ],
            [
             0.1111111111111111,
             "#46039f"
            ],
            [
             0.2222222222222222,
             "#7201a8"
            ],
            [
             0.3333333333333333,
             "#9c179e"
            ],
            [
             0.4444444444444444,
             "#bd3786"
            ],
            [
             0.5555555555555556,
             "#d8576b"
            ],
            [
             0.6666666666666666,
             "#ed7953"
            ],
            [
             0.7777777777777778,
             "#fb9f3a"
            ],
            [
             0.8888888888888888,
             "#fdca26"
            ],
            [
             1,
             "#f0f921"
            ]
           ]
          },
          "colorway": [
           "#636efa",
           "#EF553B",
           "#00cc96",
           "#ab63fa",
           "#FFA15A",
           "#19d3f3",
           "#FF6692",
           "#B6E880",
           "#FF97FF",
           "#FECB52"
          ],
          "font": {
           "color": "#2a3f5f"
          },
          "geo": {
           "bgcolor": "white",
           "lakecolor": "white",
           "landcolor": "#E5ECF6",
           "showlakes": true,
           "showland": true,
           "subunitcolor": "white"
          },
          "hoverlabel": {
           "align": "left"
          },
          "hovermode": "closest",
          "mapbox": {
           "style": "light"
          },
          "paper_bgcolor": "white",
          "plot_bgcolor": "#E5ECF6",
          "polar": {
           "angularaxis": {
            "gridcolor": "white",
            "linecolor": "white",
            "ticks": ""
           },
           "bgcolor": "#E5ECF6",
           "radialaxis": {
            "gridcolor": "white",
            "linecolor": "white",
            "ticks": ""
           }
          },
          "scene": {
           "xaxis": {
            "backgroundcolor": "#E5ECF6",
            "gridcolor": "white",
            "gridwidth": 2,
            "linecolor": "white",
            "showbackground": true,
            "ticks": "",
            "zerolinecolor": "white"
           },
           "yaxis": {
            "backgroundcolor": "#E5ECF6",
            "gridcolor": "white",
            "gridwidth": 2,
            "linecolor": "white",
            "showbackground": true,
            "ticks": "",
            "zerolinecolor": "white"
           },
           "zaxis": {
            "backgroundcolor": "#E5ECF6",
            "gridcolor": "white",
            "gridwidth": 2,
            "linecolor": "white",
            "showbackground": true,
            "ticks": "",
            "zerolinecolor": "white"
           }
          },
          "shapedefaults": {
           "line": {
            "color": "#2a3f5f"
           }
          },
          "ternary": {
           "aaxis": {
            "gridcolor": "white",
            "linecolor": "white",
            "ticks": ""
           },
           "baxis": {
            "gridcolor": "white",
            "linecolor": "white",
            "ticks": ""
           },
           "bgcolor": "#E5ECF6",
           "caxis": {
            "gridcolor": "white",
            "linecolor": "white",
            "ticks": ""
           }
          },
          "title": {
           "x": 0.05
          },
          "xaxis": {
           "automargin": true,
           "gridcolor": "white",
           "linecolor": "white",
           "ticks": "",
           "title": {
            "standoff": 15
           },
           "zerolinecolor": "white",
           "zerolinewidth": 2
          },
          "yaxis": {
           "automargin": true,
           "gridcolor": "white",
           "linecolor": "white",
           "ticks": "",
           "title": {
            "standoff": 15
           },
           "zerolinecolor": "white",
           "zerolinewidth": 2
          }
         }
        },
        "title": {
         "text": "Best rated hotels in selected cities (with the best weather in the next 7 days)"
        },
        "width": 1050
       }
      }
     },
     "metadata": {},
     "output_type": "display_data"
    }
   ],
   "source": [
    "# Get the best destination in the best cities\n",
    "to_plot = merged[merged['City'].isin(df_bestdest['City'].head())].groupby('City' , as_index=False).apply(lambda x: x.nlargest(4, 'Rating')).reset_index(drop=True)\n",
    "\n",
    "# Plot the figure\n",
    "fig = px.scatter_mapbox(to_plot , lat=\"Lat\", lon=\"Long\", hover_name = 'Name', zoom = 5,\n",
    "                        hover_data={\n",
    "        'Lat': False,\n",
    "        'Long': False,\n",
    "        'score_7_days':False,\n",
    "        'Name' : True,\n",
    "        'City': True,\n",
    "        'mean_temperature_7_days': True,\n",
    "        }, \n",
    "                        color = 'City', color_discrete_sequence = px.colors.sequential.Inferno, template='plotly', size='Rating',\n",
    "                        mapbox_style='open-street-map',width = 1050, height = 900,\n",
    "                        title='Best rated hotels in selected cities (with the best weather in the next 7 days)')\n",
    "\n",
    "\n",
    "fig.show()"
   ]
  }
 ],
 "metadata": {
  "kernelspec": {
   "display_name": "Python 3",
   "language": "python",
   "name": "python3"
  },
  "language_info": {
   "codemirror_mode": {
    "name": "ipython",
    "version": 3
   },
   "file_extension": ".py",
   "mimetype": "text/x-python",
   "name": "python",
   "nbconvert_exporter": "python",
   "pygments_lexer": "ipython3",
   "version": "3.10.5"
  },
  "orig_nbformat": 4,
  "vscode": {
   "interpreter": {
    "hash": "26de051ba29f2982a8de78e945f0abaf191376122a1563185a90213a26c5da77"
   }
  }
 },
 "nbformat": 4,
 "nbformat_minor": 2
}
